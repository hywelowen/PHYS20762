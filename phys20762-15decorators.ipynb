{
 "cells": [
  {
   "cell_type": "markdown",
   "metadata": {},
   "source": [
    "<img src=\"./img/uomlogo.png\" align=\"left\"/><br><br>\n",
    "# PHYS20762 - Decorators\n",
    "\n",
    "Hywel Owen  \n",
    "(c) University of Manchester  \n",
    "28th May 2020"
   ]
  },
  {
   "cell_type": "markdown",
   "metadata": {},
   "source": [
    "![](./img/bee.png)\n",
    "## Modifying Functions Using Decorators\n",
    "\n",
    "Decorators are an important part of **Python** programming, and is a way of making a *function transformation* whilst still keeping the function readable. By using decorator syntax we make our code much more readable than it would be otherwise - working with our code is therefore 'sweeter', and so this way of writing things is called *syntactic sugar*. (Yes, really.)"
   ]
  },
  {
   "cell_type": "markdown",
   "metadata": {},
   "source": [
    "![](./img/bee.png)\n",
    "## Python Functions are First-Class Objects\n",
    "\n",
    "A very important fact about Python is that functions in Python are *first-class objects*. Just like any other objects, this means that functions can be:  \n",
    "- be passed to functions as arguments  \n",
    "- be returned from functions  \n",
    "- be assigned to variables  "
   ]
  },
  {
   "cell_type": "markdown",
   "metadata": {},
   "source": [
    "### Assigning functions to other variables\n",
    "\n",
    "First, we should realise that functions can be defined and then assigned to other variables:"
   ]
  },
  {
   "cell_type": "code",
   "execution_count": 1,
   "metadata": {},
   "outputs": [
    {
     "name": "stdout",
     "output_type": "stream",
     "text": [
      "16\n",
      "16\n"
     ]
    }
   ],
   "source": [
    "def square_it(x): # Define a function that squares the argument\n",
    "    return x ** 2\n",
    "\n",
    "power_it = square_it # Assign this function to another variable (notice there's no argument brackets). \n",
    "# power_it now dose the same thing as square_it\n",
    "\n",
    "\n",
    "print(square_it(4))\n",
    "print(power_it(4))"
   ]
  },
  {
   "cell_type": "markdown",
   "metadata": {},
   "source": [
    "Great, so we can pass functions to other variables. What use is that? Keep reading below..."
   ]
  },
  {
   "cell_type": "markdown",
   "metadata": {},
   "source": [
    "### Passing functions as arguments\n",
    "\n",
    "We can pass functions as arguments. This is easiest to understand through an example:"
   ]
  },
  {
   "cell_type": "code",
   "execution_count": 3,
   "metadata": {},
   "outputs": [
    {
     "name": "stdout",
     "output_type": "stream",
     "text": [
      "Rover sits!\n",
      "Rover barks!\n",
      "Rover rolls over!\n"
     ]
    }
   ],
   "source": [
    "def bark(name):\n",
    "    print(f'{name} barks!')\n",
    "    \n",
    "def sit(name):\n",
    "    print(f'{name} sits!')\n",
    "\n",
    "def roll_over(name):\n",
    "    print(f'{name} rolls over!')\n",
    "    \n",
    "def command_dog(name,command): # Make the dog called <name> do command <command>\n",
    "    command(name)\n",
    "\n",
    "command_dog(\"Rover\",sit)\n",
    "command_dog(\"Rover\",bark)\n",
    "command_dog(\"Rover\",roll_over)\n"
   ]
  },
  {
   "cell_type": "markdown",
   "metadata": {},
   "source": [
    "But what if we want to modify the functions to include some extra actions? Let's say we want to include some print statements:\n",
    "- The dog heard the command\n",
    "- The dog is waiting for the new command  \n",
    "\n",
    "and we want the same behaviour to happen in all 3 functions.\n",
    "\n",
    "This would be cumbersome to write 3 times, and would be prone to error (you have to write the modification 3 times!).\n",
    "\n",
    "We can get around that using **decorators**. Again, this is best demonstrated with an example:"
   ]
  },
  {
   "cell_type": "code",
   "execution_count": 6,
   "metadata": {},
   "outputs": [
    {
     "name": "stdout",
     "output_type": "stream",
     "text": [
      "The dog has heard the command sit.\n",
      "Rover sits!\n",
      "The dog has finished the command sit.\n",
      "The dog has heard the command bark.\n",
      "Rover barks!\n",
      "The dog has finished the command bark.\n",
      "The dog has heard the command roll_over.\n",
      "Rover rolls over!\n",
      "The dog has finished the command roll_over.\n"
     ]
    }
   ],
   "source": [
    "# Define the decorator function\n",
    "def add_dog_status(fun):\n",
    "    def wrapper(*args, **kwargs): # Allow arguments to be passed to the original function\n",
    "        print(f'The dog has heard the command {fun.__name__}.') # Add status before\n",
    "        res = fun(*args, **kwargs) # Get any return values (there aren't any here)\n",
    "        print(f'The dog has finished the command {fun.__name__}.') # Add status after\n",
    "        return res # Return any return values\n",
    "        \n",
    "    return wrapper\n",
    "\n",
    "@add_dog_status\n",
    "def bark(name):\n",
    "    print(f'{name} barks!')\n",
    "\n",
    "@add_dog_status\n",
    "def sit(name):\n",
    "    print(f'{name} sits!')\n",
    "\n",
    "@add_dog_status\n",
    "def roll_over(name):\n",
    "    print(f'{name} rolls over!')\n",
    "    \n",
    "def command_dog(name,command): # Make the dog called <name> do command <command>\n",
    "    command(name)\n",
    "\n",
    "command_dog(\"Rover\",sit)\n",
    "command_dog(\"Rover\",bark)\n",
    "command_dog(\"Rover\",roll_over)"
   ]
  },
  {
   "cell_type": "markdown",
   "metadata": {},
   "source": [
    "You can see that the **decorator** syntax lets us do all sorts of things much more conveniently. Let's add another that makes the dog bark 3 times:"
   ]
  },
  {
   "cell_type": "code",
   "execution_count": 10,
   "metadata": {},
   "outputs": [
    {
     "name": "stdout",
     "output_type": "stream",
     "text": [
      "The dog has heard the command sit.\n",
      "Rover sits!\n",
      "The dog has finished the command sit.\n",
      "Rover barks!\n",
      "Rover barks!\n",
      "Rover barks!\n",
      "The dog has heard the command roll_over.\n",
      "Rover rolls over!\n",
      "The dog has finished the command roll_over.\n"
     ]
    }
   ],
   "source": [
    "# Define the decorator function\n",
    "def add_dog_status(fun):\n",
    "    def wrapper(*args, **kwargs): # Allow arguments to be passed to the original function\n",
    "        print(f'The dog has heard the command {fun.__name__}.') # Add status before\n",
    "        res = fun(*args, **kwargs) # Get any return values (there aren't any here)\n",
    "        print(f'The dog has finished the command {fun.__name__}.') # Add status after\n",
    "        return res # Return any return values\n",
    "        \n",
    "    return wrapper\n",
    "\n",
    "\n",
    "def do_three_times(fun):\n",
    "    def wrapper(*args, **kwargs): # Allow arguments to be passed to the original function\n",
    "        for i in range(3):\n",
    "            res = fun(*args, **kwargs) # Get any return values (there aren't any here)\n",
    "        return res # Return the final return value (if there is one)\n",
    "        \n",
    "    return wrapper    \n",
    "\n",
    "@do_three_times\n",
    "def bark(name):\n",
    "    print(f'{name} barks!')\n",
    "\n",
    "@add_dog_status\n",
    "def sit(name):\n",
    "    print(f'{name} sits!')\n",
    "\n",
    "@add_dog_status\n",
    "def roll_over(name):\n",
    "    print(f'{name} rolls over!')\n",
    "    \n",
    "def command_dog(name,command): # Make the dog called <name> do command <command>\n",
    "    command(name)\n",
    "\n",
    "command_dog(\"Rover\",sit)\n",
    "command_dog(\"Rover\",bark)\n",
    "command_dog(\"Rover\",roll_over)"
   ]
  },
  {
   "cell_type": "markdown",
   "metadata": {},
   "source": [
    "### A Useful Example - Timing Functions\n",
    "\n",
    "It's pretty common to want to be able to time how long a piece of code takes to run. We saw in a previous notebook how to do that using line-magic commands. Let's now do the same thing using a decorator. \n",
    "\n",
    "We recall our function that calculates $\\pi$ using Monte Carlo sampling:"
   ]
  },
  {
   "cell_type": "code",
   "execution_count": 12,
   "metadata": {},
   "outputs": [
    {
     "data": {
      "text/plain": [
       "3.141976"
      ]
     },
     "execution_count": 12,
     "metadata": {},
     "output_type": "execute_result"
    }
   ],
   "source": [
    "import numpy as np\n",
    "\n",
    "def monte_carlo_pi(nsamples):\n",
    "    acc = 0\n",
    "    for i in range(nsamples):\n",
    "        x = np.random.random()\n",
    "        y = np.random.random()\n",
    "        if (x ** 2 + y ** 2) < 1.0:\n",
    "            acc += 1\n",
    "    return 4.0 * acc / nsamples\n",
    "\n",
    "monte_carlo_pi(1_000_000)"
   ]
  },
  {
   "cell_type": "markdown",
   "metadata": {},
   "source": [
    "Now let's add a decorator to time it:"
   ]
  },
  {
   "cell_type": "code",
   "execution_count": 23,
   "metadata": {},
   "outputs": [
    {
     "name": "stdout",
     "output_type": "stream",
     "text": [
      "Function took 1488 milliseconds to execute.\n"
     ]
    },
    {
     "data": {
      "text/plain": [
       "3.142296"
      ]
     },
     "execution_count": 23,
     "metadata": {},
     "output_type": "execute_result"
    }
   ],
   "source": [
    "import numpy as np\n",
    "import time\n",
    "\n",
    "def time_it(fun):\n",
    "    def wrapper(*args, **kwargs):\n",
    "        start = time.time()\n",
    "        res = fun(*args, **kwargs)\n",
    "        end = time.time()\n",
    "        print(f'Function took {int(1000*(end-start))} milliseconds to execute.')\n",
    "        \n",
    "        return res\n",
    "    \n",
    "    return wrapper\n",
    "\n",
    "@time_it\n",
    "def monte_carlo_pi(nsamples):\n",
    "    acc = 0\n",
    "    for i in range(nsamples):\n",
    "        x = np.random.random()\n",
    "        y = np.random.random()\n",
    "        if (x ** 2 + y ** 2) < 1.0:\n",
    "            acc += 1\n",
    "    return 4.0 * acc / nsamples\n",
    "\n",
    "monte_carlo_pi(1_000_000)"
   ]
  },
  {
   "cell_type": "markdown",
   "metadata": {},
   "source": [
    "### Adding decorators to other people's functions\n",
    "\n",
    "In our timing example we effectively re-defined our function when we added a decorator to it. Often, we don't get to do that. Fortunately, there's another way to apply a decorator, which is by assigning our decorated function to another variable (i.e. it defines a separate function):"
   ]
  },
  {
   "cell_type": "code",
   "execution_count": 24,
   "metadata": {},
   "outputs": [
    {
     "name": "stdout",
     "output_type": "stream",
     "text": [
      "The ordinary function gives pi = 3.138556\n",
      "Function took 1439 milliseconds to execute.\n",
      "The timed function gives pi = 3.14066\n"
     ]
    }
   ],
   "source": [
    "import numpy as np\n",
    "import time\n",
    "\n",
    "def time_it(fun):\n",
    "    def wrapper(*args, **kwargs):\n",
    "        start = time.time()\n",
    "        res = fun(*args, **kwargs)\n",
    "        end = time.time()\n",
    "        print(f'Function took {int(1000*(end-start))} milliseconds to execute.')\n",
    "        \n",
    "        return res\n",
    "    \n",
    "    return wrapper\n",
    "\n",
    "def monte_carlo_pi(nsamples):\n",
    "    acc = 0\n",
    "    for i in range(nsamples):\n",
    "        x = np.random.random()\n",
    "        y = np.random.random()\n",
    "        if (x ** 2 + y ** 2) < 1.0:\n",
    "            acc += 1\n",
    "    return 4.0 * acc / nsamples\n",
    "\n",
    "timed_monte_carlo_pi = time_it(monte_carlo_pi)\n",
    "\n",
    "pi_estimate1 = monte_carlo_pi(1_000_000) # Use the ordinary function\n",
    "print(f'The ordinary function gives pi = {pi_estimate1}')\n",
    "pi_estimate2 = timed_monte_carlo_pi(1_000_000) # Use the timed definition\n",
    "print(f'The timed function gives pi = {pi_estimate2}')"
   ]
  },
  {
   "cell_type": "markdown",
   "metadata": {},
   "source": [
    "We can adapt the code to make the timing more accurate by averaging over several executions of the function:"
   ]
  },
  {
   "cell_type": "code",
   "execution_count": 25,
   "metadata": {},
   "outputs": [
    {
     "name": "stdout",
     "output_type": "stream",
     "text": [
      "The ordinary function gives pi = 3.139928\n",
      "Iteration 1\n",
      "Iteration 2\n",
      "Iteration 3\n",
      "Iteration 4\n",
      "Iteration 5\n",
      "Function took 1464 milliseconds to execute.\n",
      "The timed function gives pi = 3.145516\n"
     ]
    }
   ],
   "source": [
    "import numpy as np\n",
    "import time\n",
    "\n",
    "def time_it(fun):\n",
    "    def wrapper(*args, **kwargs):\n",
    "        start = time.time()\n",
    "        for i in range(5):\n",
    "            res = fun(*args, **kwargs)\n",
    "            print(f'Iteration {i+1}') # Print which iteration we are doing\n",
    "        end = time.time()\n",
    "        print(f'Function took {int(1000/5*(end-start))} milliseconds to execute.')\n",
    "        \n",
    "        return res # Only return the last calculated value\n",
    "    \n",
    "    return wrapper\n",
    "\n",
    "def monte_carlo_pi(nsamples):\n",
    "    acc = 0\n",
    "    for i in range(nsamples):\n",
    "        x = np.random.random()\n",
    "        y = np.random.random()\n",
    "        if (x ** 2 + y ** 2) < 1.0:\n",
    "            acc += 1\n",
    "    return 4.0 * acc / nsamples\n",
    "\n",
    "timed_monte_carlo_pi = time_it(monte_carlo_pi)\n",
    "\n",
    "pi_estimate1 = monte_carlo_pi(1_000_000) # Use the ordinary function\n",
    "print(f'The ordinary function gives pi = {pi_estimate1}')\n",
    "pi_estimate2 = timed_monte_carlo_pi(1_000_000) # Use the timed definition\n",
    "print(f'The timed function gives pi = {pi_estimate2}')"
   ]
  },
  {
   "cell_type": "markdown",
   "metadata": {},
   "source": [
    "In fact, we can add an extra argument to choose how many execution times we wish to average over:"
   ]
  },
  {
   "cell_type": "code",
   "execution_count": 34,
   "metadata": {},
   "outputs": [
    {
     "name": "stdout",
     "output_type": "stream",
     "text": [
      "The ordinary function gives pi = 3.138668\n",
      "Iteration 1\n",
      "Iteration 2\n",
      "Iteration 3\n",
      "Iteration 4\n",
      "Iteration 5\n",
      "Iteration 6\n",
      "Iteration 7\n",
      "Iteration 8\n",
      "Iteration 9\n",
      "Iteration 10\n",
      "Function took 1442 milliseconds to execute.\n",
      "The timed function gives pi = 3.142784\n"
     ]
    }
   ],
   "source": [
    "import numpy as np\n",
    "import time\n",
    "\n",
    "def time_it(fun,n):\n",
    "    def wrapper(*args, **kwargs):\n",
    "        start = time.time()\n",
    "        for i in range(n):\n",
    "            res = fun(*args, **kwargs)\n",
    "            print(f'Iteration {i+1}') # Print which iteration we are doing\n",
    "        end = time.time()\n",
    "        print(f'Function took {int(1000/n*(end-start))} milliseconds to execute.')\n",
    "        \n",
    "        return res # Only return the last calculated value\n",
    "    \n",
    "    return wrapper\n",
    "\n",
    "def monte_carlo_pi(nsamples):\n",
    "    acc = 0\n",
    "    for i in range(nsamples):\n",
    "        x = np.random.random()\n",
    "        y = np.random.random()\n",
    "        if (x ** 2 + y ** 2) < 1.0:\n",
    "            acc += 1\n",
    "    return 4.0 * acc / nsamples\n",
    "\n",
    "timed_monte_carlo_pi = time_it(monte_carlo_pi,10)\n",
    "\n",
    "pi_estimate1 = monte_carlo_pi(1_000_000) # Use the ordinary function\n",
    "print(f'The ordinary function gives pi = {pi_estimate1}')\n",
    "pi_estimate2 = timed_monte_carlo_pi(1_000_000) # Use the timed definition\n",
    "print(f'The timed function gives pi = {pi_estimate2}')"
   ]
  },
  {
   "cell_type": "markdown",
   "metadata": {},
   "source": [
    "### Example - Comparing the Speed of Random Number Generators\n",
    "\n",
    "Let's compare 3 different methods of generating random numbers. Each method doesn't take very long to generate 1000 numbers, so let's compare each method using 100 executions of each. Here's the complete code, with added comments:"
   ]
  },
  {
   "cell_type": "code",
   "execution_count": 42,
   "metadata": {},
   "outputs": [
    {
     "name": "stdout",
     "output_type": "stream",
     "text": [
      "Function took 122434 microseconds to execute.\n",
      "Function took 7179 microseconds to execute.\n",
      "Function took 120392 microseconds to execute.\n",
      "Function took 118 microseconds to execute.\n",
      "Finished!\n"
     ]
    }
   ],
   "source": [
    "# Import required packages\n",
    "import numpy as np\n",
    "import time\n",
    "\n",
    "# Define timing wrapper - hard-coded to do num_executions executions and then average\n",
    "def time_it(fun):\n",
    "    def wrapper(*args, **kwargs):\n",
    "        num_executions = 100\n",
    "        start = time.time()\n",
    "        for _ in range(num_executions):\n",
    "            res = fun(*args, **kwargs)\n",
    "        end = time.time()\n",
    "        print(f'Function took {int(1_000_000/num_executions*(end-start))} microseconds to execute.')\n",
    "        \n",
    "        return res # Only return the last calculated value\n",
    "    \n",
    "    return wrapper\n",
    "\n",
    "# Define an LCG class so we can use it in our custom random number generator\n",
    "class LCG:\n",
    "    \"\"\"\n",
    "    A general linear congruential generator\n",
    "    \"\"\"\n",
    "    def __init__(self, m, a, c):\n",
    "        self.m = m\n",
    "        self.a = a\n",
    "        self.c = c\n",
    "        self.seed = 0\n",
    "        self.this_sample = self.seed # Set initial sequence value to be the seed\n",
    "        # Can return the original seed value if we want to!\n",
    "        \n",
    "    def sample(self):\n",
    "        # Generate the sample (between 0 and m)\n",
    "        self.this_sample = (self.a * self.this_sample + self.c) % self.m\n",
    "        # Return the sample (between 0 and 1)\n",
    "        return self.this_sample/self.m\n",
    "    \n",
    "    # Allow the seed value to be set explicitly\n",
    "    def set_seed(self, seed_val):\n",
    "        self.seed = seed_val\n",
    "        self.this_sample = self.seed\n",
    "\n",
    "# We create an instance of the general LCG class, which generates (individual) samples using\n",
    "# the a,m,c values used in the classic computing text 'Numerical Recipes'\n",
    "numericalrecipes = LCG(2**32,1664525, 1013904223)\n",
    "\n",
    "@time_it\n",
    "def lcg_numpy_appended(n):\n",
    "    random_set = np.array([]) # Initialise an empty Numpy array\n",
    "    for _ in range(n): # Note we use a dummy variable _ because we're not using the index value\n",
    "        # append values 1 by 1 (this is SLOW!) using the LCG instance for Numerical Recipes\n",
    "        random_set = np.append(random_set, numericalrecipes.sample())\n",
    "    return random_set\n",
    "\n",
    "@time_it\n",
    "def random_list_appended(n):\n",
    "    random_set = [] # Initialise an empty Python list\n",
    "    for _ in range(n): # Note we use a dummy variable _ because we're not using the index value\n",
    "        # append values 1 by 1 (this is SLOW!)\n",
    "        random_set.append(np.random.random())\n",
    "    return random_set\n",
    "\n",
    "@time_it\n",
    "def random_numpy_appended(n):\n",
    "    random_set = np.array([]) # Initialise an empty Numpy array\n",
    "    for _ in range(n): # Note we use a dummy variable _ because we're not using the index value\n",
    "        # append values 1 by 1 (this is SLOW!)\n",
    "        random_set = np.append(random_set, np.random.random())\n",
    "    return random_set\n",
    "\n",
    "@time_it\n",
    "def random_numpy_allatonce(n):\n",
    "    return np.random.random(n) # This is the best way to generate random numbers fast\n",
    "        \n",
    "# Time the different random number generators\n",
    "sample1 = lcg_numpy_appended(10_000)\n",
    "sample2 = random_list_appended(10_000)\n",
    "sample3 = random_numpy_appended(10_000)\n",
    "sample4 = random_numpy_allatonce(10_000)\n",
    "\n",
    "print('Finished!')"
   ]
  },
  {
   "cell_type": "markdown",
   "metadata": {},
   "source": [
    "You can see that there is a large difference in speed between the different methods. The quickest one is the in-built **numpy.random.random(n)**, which utilises compiled code to execute. Whilst in this case the differences are not that significant - we are only creating one sample set - you will hopefully appreciate that timing differences can become very important if we are executing the same function over and over again.\n",
    "\n",
    "Timing different implementations of the same functions is very important in optimising large programs."
   ]
  },
  {
   "cell_type": "code",
   "execution_count": null,
   "metadata": {},
   "outputs": [],
   "source": []
  }
 ],
 "metadata": {
  "kernelspec": {
   "display_name": "Python 3",
   "language": "python",
   "name": "python3"
  },
  "language_info": {
   "codemirror_mode": {
    "name": "ipython",
    "version": 3
   },
   "file_extension": ".py",
   "mimetype": "text/x-python",
   "name": "python",
   "nbconvert_exporter": "python",
   "pygments_lexer": "ipython3",
   "version": "3.7.7"
  }
 },
 "nbformat": 4,
 "nbformat_minor": 4
}

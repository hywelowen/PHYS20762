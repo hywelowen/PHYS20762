{
 "cells": [
  {
   "cell_type": "markdown",
   "metadata": {},
   "source": [
    "<img src=\"./img/uomlogo.png\" align=\"left\"/><br><br>\n",
    "# PHYS20762 Examples of Numerical Problem Calculations\n",
    "\n",
    "Hywel Owen  \n",
    "(c) University of Manchester  \n",
    "16th May 2020"
   ]
  },
  {
   "cell_type": "markdown",
   "metadata": {},
   "source": [
    "As usual, we first initialise our Python interpreter:"
   ]
  },
  {
   "cell_type": "code",
   "execution_count": 1,
   "metadata": {},
   "outputs": [],
   "source": [
    "import numpy as np\n",
    "import matplotlib.pyplot as plt\n",
    "import math\n",
    "\n",
    "plt.rcParams.update({'font.size': 14})\n",
    "plt.style.use('default')"
   ]
  },
  {
   "cell_type": "markdown",
   "metadata": {},
   "source": [
    "![](./img/bee.png)\n",
    "## Numerical Precision in Python Calculations"
   ]
  },
  {
   "cell_type": "markdown",
   "metadata": {},
   "source": [
    "When we do a numerical calculation in our (favourite) programming language, we initially don't really worry about what form our numbers are being processed in. Here, we are implicitly using integers without worrying much about them:"
   ]
  },
  {
   "cell_type": "code",
   "execution_count": 2,
   "metadata": {},
   "outputs": [
    {
     "name": "stdout",
     "output_type": "stream",
     "text": [
      "10\n",
      "10\n",
      "10\n",
      "10\n",
      "10\n",
      "10\n",
      "10\n",
      "10\n",
      "10\n",
      "10\n",
      "10\n",
      "10\n",
      "10\n",
      "10\n",
      "10\n",
      "10\n",
      "10\n",
      "10\n",
      "10\n",
      "10\n"
     ]
    }
   ],
   "source": [
    "x = 10\n",
    "for i in range (20):\n",
    "    x = (x-9)*10\n",
    "    print(x)"
   ]
  },
  {
   "cell_type": "markdown",
   "metadata": {},
   "source": [
    "We can explicitly check what form **x** has ended up as. Yes, it is an integer:"
   ]
  },
  {
   "cell_type": "code",
   "execution_count": 3,
   "metadata": {},
   "outputs": [
    {
     "data": {
      "text/plain": [
       "int"
      ]
     },
     "execution_count": 3,
     "metadata": {},
     "output_type": "execute_result"
    }
   ],
   "source": [
    "type(x)"
   ]
  },
  {
   "cell_type": "markdown",
   "metadata": {},
   "source": [
    "Let's now do the same calculation, but explicitly with floating point numbers:"
   ]
  },
  {
   "cell_type": "code",
   "execution_count": 4,
   "metadata": {},
   "outputs": [
    {
     "name": "stdout",
     "output_type": "stream",
     "text": [
      "10.0\n",
      "10.0\n",
      "10.0\n",
      "10.0\n",
      "10.0\n",
      "10.0\n",
      "10.0\n",
      "10.0\n",
      "10.0\n",
      "10.0\n",
      "10.0\n",
      "10.0\n",
      "10.0\n",
      "10.0\n",
      "10.0\n",
      "10.0\n",
      "10.0\n",
      "10.0\n",
      "10.0\n",
      "10.0\n"
     ]
    }
   ],
   "source": [
    "x = 10.0\n",
    "for i in range (20):\n",
    "    x = (x-9.0)*10.0\n",
    "    print(x)"
   ]
  },
  {
   "cell_type": "markdown",
   "metadata": {},
   "source": [
    "Everything looks much the same, except that of course we see a decimal point after the number that indicates this time we have a floating-point variable. We can explicitly confirm this is the case:"
   ]
  },
  {
   "cell_type": "code",
   "execution_count": 5,
   "metadata": {},
   "outputs": [
    {
     "data": {
      "text/plain": [
       "float"
      ]
     },
     "execution_count": 5,
     "metadata": {},
     "output_type": "execute_result"
    }
   ],
   "source": [
    "type(x)"
   ]
  },
  {
   "cell_type": "markdown",
   "metadata": {},
   "source": [
    "Now, we do the same calculation. At least, it looks similar enough. However, a problem emerges:"
   ]
  },
  {
   "cell_type": "code",
   "execution_count": 10,
   "metadata": {},
   "outputs": [
    {
     "name": "stdout",
     "output_type": "stream",
     "text": [
      "0.9999999999999998\n",
      "0.9999999999999976\n",
      "0.9999999999999754\n",
      "0.9999999999997533\n",
      "0.9999999999975329\n",
      "0.9999999999753284\n",
      "0.9999999997532838\n",
      "0.9999999975328377\n",
      "0.9999999753283773\n",
      "0.9999997532837723\n",
      "0.9999975328377231\n",
      "0.9999753283772306\n",
      "0.9997532837723055\n",
      "0.9975328377230552\n",
      "0.9753283772305521\n",
      "0.7532837723055208\n",
      "-1.4671622769447923\n",
      "-23.67162276944792\n",
      "-245.7162276944792\n",
      "-2466.1622769447918\n"
     ]
    }
   ],
   "source": [
    "x = 1.0\n",
    "for i in range (20):\n",
    "    x = (x-0.9)/0.1\n",
    "    print(x)"
   ]
  },
  {
   "cell_type": "markdown",
   "metadata": {},
   "source": [
    "What has happened here? We can see that this calculation is steadily giving a greater and greater error. About 1 digit of accuracy is being lost at each *iteration* of the calculation."
   ]
  },
  {
   "cell_type": "markdown",
   "metadata": {},
   "source": [
    "What is happening? Let's try to look at this. First, we define a variable *y*:"
   ]
  },
  {
   "cell_type": "code",
   "execution_count": 1,
   "metadata": {},
   "outputs": [
    {
     "name": "stdout",
     "output_type": "stream",
     "text": [
      "0.1\n"
     ]
    }
   ],
   "source": [
    "y = 0.1\n",
    "print(y)"
   ]
  },
  {
   "cell_type": "markdown",
   "metadata": {},
   "source": [
    "So far, so good. But let's now explicitly display the number to greater precision, using the *format* command:"
   ]
  },
  {
   "cell_type": "code",
   "execution_count": 2,
   "metadata": {},
   "outputs": [
    {
     "name": "stdout",
     "output_type": "stream",
     "text": [
      "y = 0.1000000000\n"
     ]
    }
   ],
   "source": [
    "print('y = {:04.10f}'.format(y))"
   ]
  },
  {
   "cell_type": "markdown",
   "metadata": {},
   "source": [
    "Seems okay so far. Let's look with even more precision:"
   ]
  },
  {
   "cell_type": "code",
   "execution_count": 3,
   "metadata": {},
   "outputs": [
    {
     "name": "stdout",
     "output_type": "stream",
     "text": [
      "y = 0.100000000000000005551115123126\n"
     ]
    }
   ],
   "source": [
    "print('y = {:04.30f}'.format(y))"
   ]
  },
  {
   "cell_type": "markdown",
   "metadata": {},
   "source": [
    "Ahaa... Even though we have asked for the value **0.1** to be stored, Python has stored something slightly different. This is because Python (and most other languages) store floating numbers using a *binary* representation. And the number **0.1** cannot be represented in binary in closed form (i.e. the representation repeats forever)."
   ]
  },
  {
   "cell_type": "markdown",
   "metadata": {},
   "source": [
    "This leads to some interesting issues. For example, let's compare two expressions. **0.1 + 0.1 + 0.1** should equal **0.3**, but using our internal binary representation it doesn't quite:"
   ]
  },
  {
   "cell_type": "code",
   "execution_count": 4,
   "metadata": {},
   "outputs": [
    {
     "data": {
      "text/plain": [
       "False"
      ]
     },
     "execution_count": 4,
     "metadata": {},
     "output_type": "execute_result"
    }
   ],
   "source": [
    "0.1 + 0.1 + 0.1 == 0.3"
   ]
  },
  {
   "cell_type": "markdown",
   "metadata": {},
   "source": [
    "We should therefore be careful when comparing numbers with each other."
   ]
  },
  {
   "cell_type": "markdown",
   "metadata": {},
   "source": [
    "Although it's a bit tricky to display numbers in their equivalent binary format, Python lets us do something similar, which is to look at the hexadecimal representation of a variable. This is done using the **.hex()** method of a variable. (You may not have realised yet that variables can have methods, but in Python they can)."
   ]
  },
  {
   "cell_type": "code",
   "execution_count": 6,
   "metadata": {},
   "outputs": [
    {
     "data": {
      "text/plain": [
       "'0x1.999999999999ap-4'"
      ]
     },
     "execution_count": 6,
     "metadata": {},
     "output_type": "execute_result"
    }
   ],
   "source": [
    "y.hex()"
   ]
  },
  {
   "cell_type": "markdown",
   "metadata": {},
   "source": [
    "Again, we see that 0.1 cannot be represented by a *terminating* series of digits. And so there is a small difference between the stored value **y** and the value **0.1** that we originally wanted to store."
   ]
  },
  {
   "cell_type": "markdown",
   "metadata": {},
   "source": [
    "Not all decimals have this problem, of course. For example, the number **0.5** *does* have a closed for representation in Python:"
   ]
  },
  {
   "cell_type": "code",
   "execution_count": 12,
   "metadata": {},
   "outputs": [
    {
     "data": {
      "text/plain": [
       "'0x1.0000000000000p-1'"
      ]
     },
     "execution_count": 12,
     "metadata": {},
     "output_type": "execute_result"
    }
   ],
   "source": [
    "z = 0.5\n",
    "z.hex()"
   ]
  },
  {
   "cell_type": "markdown",
   "metadata": {},
   "source": [
    "...and so does **0.25** (look closely at the power exponent at the end of the number)"
   ]
  },
  {
   "cell_type": "code",
   "execution_count": 26,
   "metadata": {},
   "outputs": [
    {
     "data": {
      "text/plain": [
       "'0x1.0000000000000p-2'"
      ]
     },
     "execution_count": 26,
     "metadata": {},
     "output_type": "execute_result"
    }
   ],
   "source": [
    "z = 0.25\n",
    "z.hex()"
   ]
  },
  {
   "cell_type": "markdown",
   "metadata": {},
   "source": [
    "It can be very useful to have an idea of the precision with which numbers can be stored in Python. For ordinary floating-point numbers (commonly called double precision), we can get that precision in Python using **np.spacing()**:"
   ]
  },
  {
   "cell_type": "code",
   "execution_count": 28,
   "metadata": {},
   "outputs": [
    {
     "data": {
      "text/plain": [
       "2.220446049250313e-16"
      ]
     },
     "execution_count": 28,
     "metadata": {},
     "output_type": "execute_result"
    }
   ],
   "source": [
    "np.spacing(1)"
   ]
  },
  {
   "cell_type": "markdown",
   "metadata": {},
   "source": [
    "![](img/bee.png)\n",
    "## Some Other Problems With Numerical Precision Limits"
   ]
  },
  {
   "cell_type": "markdown",
   "metadata": {},
   "source": [
    "The fact that there is a numerical precision limit means we sometimes have to be careful with how we structure our calculations. One example is when we add a very small number to a larger number. A catastrophic error can occur:"
   ]
  },
  {
   "cell_type": "code",
   "execution_count": 13,
   "metadata": {},
   "outputs": [
    {
     "ename": "ZeroDivisionError",
     "evalue": "float division by zero",
     "output_type": "error",
     "traceback": [
      "\u001b[0;31m---------------------------------------------------------------------------\u001b[0m",
      "\u001b[0;31mZeroDivisionError\u001b[0m                         Traceback (most recent call last)",
      "\u001b[0;32m<ipython-input-13-9b359e936b27>\u001b[0m in \u001b[0;36m<module>\u001b[0;34m\u001b[0m\n\u001b[1;32m      1\u001b[0m \u001b[0;31m# Round-off error\u001b[0m\u001b[0;34m\u001b[0m\u001b[0;34m\u001b[0m\u001b[0;34m\u001b[0m\u001b[0m\n\u001b[0;32m----> 2\u001b[0;31m \u001b[0;36m1e-20\u001b[0m\u001b[0;34m/\u001b[0m\u001b[0;34m(\u001b[0m\u001b[0;34m(\u001b[0m\u001b[0;36m3\u001b[0m\u001b[0;34m+\u001b[0m\u001b[0;36m1e-20\u001b[0m\u001b[0;34m)\u001b[0m\u001b[0;34m-\u001b[0m\u001b[0;36m3\u001b[0m\u001b[0;34m)\u001b[0m\u001b[0;34m\u001b[0m\u001b[0;34m\u001b[0m\u001b[0m\n\u001b[0m",
      "\u001b[0;31mZeroDivisionError\u001b[0m: float division by zero"
     ]
    }
   ],
   "source": [
    "# Round-off error\n",
    "1e-20/((3+1e-20)-3)"
   ]
  },
  {
   "cell_type": "markdown",
   "metadata": {},
   "source": [
    "This problem can show itself in several ways. Here, we plot a 'regular' function **y=f(x)=x**:"
   ]
  },
  {
   "cell_type": "code",
   "execution_count": 14,
   "metadata": {},
   "outputs": [
    {
     "data": {
      "text/plain": [
       "[<matplotlib.lines.Line2D at 0x112475f10>]"
      ]
     },
     "execution_count": 14,
     "metadata": {},
     "output_type": "execute_result"
    },
    {
     "data": {
      "image/png": "[encoded data removed]",
      "text/plain": [
       "<Figure size 640x480 with 1 Axes>"
      ]
     },
     "metadata": {},
     "output_type": "display_data"
    }
   ],
   "source": [
    "x = np.arange(1,100,10)\n",
    "y = x\n",
    "plt.plot(x,y)"
   ]
  },
  {
   "cell_type": "markdown",
   "metadata": {},
   "source": [
    "Everything looks fine. But let's now plot something that looks almost the same:"
   ]
  },
  {
   "cell_type": "code",
   "execution_count": 15,
   "metadata": {},
   "outputs": [
    {
     "data": {
      "text/plain": [
       "[<matplotlib.lines.Line2D at 0x113fcbe10>]"
      ]
     },
     "execution_count": 15,
     "metadata": {},
     "output_type": "execute_result"
    },
    {
     "data": {
      "image/png": "[encoded data removed]",
      "text/plain": [
       "<Figure size 640x480 with 1 Axes>"
      ]
     },
     "metadata": {},
     "output_type": "display_data"
    }
   ],
   "source": [
    "x = np.arange(1,100,10)\n",
    "y = 6e16+x-6e16\n",
    "plt.plot(x,y)"
   ]
  },
  {
   "cell_type": "markdown",
   "metadata": {},
   "source": [
    "Something odd is happening.\n",
    "\n",
    "This example is 'faked', but hopefully you can see situations where you are calculating some very small changes in **x** (say, atomic distances), and then displaying some resultant effect (say, what the forces are)."
   ]
  },
  {
   "cell_type": "markdown",
   "metadata": {},
   "source": [
    "Let's make this a bit more obvious by plotting more points (we now plot 100 points instead of 10):"
   ]
  },
  {
   "cell_type": "code",
   "execution_count": 14,
   "metadata": {},
   "outputs": [
    {
     "data": {
      "text/plain": [
       "[<matplotlib.lines.Line2D at 0x10e2e0650>]"
      ]
     },
     "execution_count": 14,
     "metadata": {},
     "output_type": "execute_result"
    },
    {
     "data": {
      "image/png": "[encoded data removed]",
      "text/plain": [
       "<Figure size 640x480 with 1 Axes>"
      ]
     },
     "metadata": {},
     "output_type": "display_data"
    }
   ],
   "source": [
    "x = np.arange(1,100,1)\n",
    "y = 6e16+x-6e16\n",
    "plt.plot(x,y)"
   ]
  },
  {
   "cell_type": "markdown",
   "metadata": {},
   "source": [
    "We see that **(6e16+x)** cannot be represented to a great enough accuracy because of the large (**6e16**) value, which has the effect of truncating the values of **x** effectively to steps of some (binary) size. We can see that more clearly by printing them out explicitly:"
   ]
  },
  {
   "cell_type": "code",
   "execution_count": 15,
   "metadata": {},
   "outputs": [
    {
     "name": "stdout",
     "output_type": "stream",
     "text": [
      "[ 0.  0.  0.  0.  8.  8.  8.  8.  8.  8.  8. 16. 16. 16. 16. 16. 16. 16.\n",
      " 16. 16. 24. 24. 24. 24. 24. 24. 24. 32. 32. 32. 32. 32. 32. 32. 32. 32.\n",
      " 40. 40. 40. 40. 40. 40. 40. 48. 48. 48. 48. 48. 48. 48. 48. 48. 56. 56.\n",
      " 56. 56. 56. 56. 56. 64. 64. 64. 64. 64. 64. 64. 64. 64. 72. 72. 72. 72.\n",
      " 72. 72. 72. 80. 80. 80. 80. 80. 80. 80. 80. 80. 88. 88. 88. 88. 88. 88.\n",
      " 88. 96. 96. 96. 96. 96. 96. 96. 96.]\n"
     ]
    }
   ],
   "source": [
    "print(y)"
   ]
  },
  {
   "cell_type": "markdown",
   "metadata": {},
   "source": [
    "![](./img/bee.png)\n",
    "## Definining and Displaying Numbers\n",
    "\n",
    "Here are a few hints and tricks for making it easier to display numbers. First, you may have already noticed that very long numbers can be hard to read.  \n",
    "\n",
    "### Displaying Long Numbers"
   ]
  },
  {
   "cell_type": "code",
   "execution_count": 1,
   "metadata": {},
   "outputs": [],
   "source": [
    "c = 299792458 # Speed of light in m/s"
   ]
  },
  {
   "cell_type": "markdown",
   "metadata": {},
   "source": [
    "This is quite hard to read. We can put a comma between the digits (that's how a list is written!), but we *are* allowed to put underscores in:"
   ]
  },
  {
   "cell_type": "code",
   "execution_count": 3,
   "metadata": {},
   "outputs": [
    {
     "name": "stdout",
     "output_type": "stream",
     "text": [
      "299792458\n"
     ]
    }
   ],
   "source": [
    "c = 299_792_458 # Speed of light in m/s\n",
    "print(c)"
   ]
  },
  {
   "cell_type": "markdown",
   "metadata": {},
   "source": [
    "This can make it a *lot* easier when we are defining variables with lots of zeroes in them:"
   ]
  },
  {
   "cell_type": "code",
   "execution_count": 4,
   "metadata": {},
   "outputs": [
    {
     "name": "stdout",
     "output_type": "stream",
     "text": [
      "1000000000000\n"
     ]
    }
   ],
   "source": [
    "onetrillion = 1_000_000_000_000\n",
    "print(onetrillion)"
   ]
  },
  {
   "cell_type": "markdown",
   "metadata": {},
   "source": [
    "That number would be really hard to check if there were no underscores."
   ]
  },
  {
   "cell_type": "markdown",
   "metadata": {},
   "source": [
    "But what about printing numbers in a more readable way? We already saw the **format** command that lets us display numbers in a concise way:"
   ]
  },
  {
   "cell_type": "code",
   "execution_count": 8,
   "metadata": {},
   "outputs": [
    {
     "name": "stdout",
     "output_type": "stream",
     "text": [
      "Pi is approximately = 3.1416\n"
     ]
    }
   ],
   "source": [
    "print('Pi is approximately = {:04.04f}'.format(3.14159268))"
   ]
  },
  {
   "cell_type": "markdown",
   "metadata": {},
   "source": [
    "We can write this in a slightly more concise way as:"
   ]
  },
  {
   "cell_type": "code",
   "execution_count": 13,
   "metadata": {},
   "outputs": [
    {
     "name": "stdout",
     "output_type": "stream",
     "text": [
      "Pi is approximately = 3.1416\n"
     ]
    }
   ],
   "source": [
    "print(f'Pi is approximately = {3.14159628:04.04f}')"
   ]
  },
  {
   "cell_type": "markdown",
   "metadata": {},
   "source": [
    "We can use the same **syntax** to display our big number with commas in it:"
   ]
  },
  {
   "cell_type": "code",
   "execution_count": 14,
   "metadata": {},
   "outputs": [
    {
     "name": "stdout",
     "output_type": "stream",
     "text": [
      "One trillion is = 1,000,000,000,000\n"
     ]
    }
   ],
   "source": [
    "print(f'One trillion is = {onetrillion:,}')"
   ]
  },
  {
   "cell_type": "markdown",
   "metadata": {},
   "source": [
    "or just:"
   ]
  },
  {
   "cell_type": "code",
   "execution_count": 15,
   "metadata": {},
   "outputs": [
    {
     "name": "stdout",
     "output_type": "stream",
     "text": [
      "1,000,000,000,000\n"
     ]
    }
   ],
   "source": [
    "print(f'{onetrillion:,}')"
   ]
  },
  {
   "cell_type": "markdown",
   "metadata": {},
   "source": [
    "I quite like this last way, which is handy when used in programs.\n",
    "\n",
    "### Formatting Floating-Point Numbers"
   ]
  },
  {
   "cell_type": "markdown",
   "metadata": {},
   "source": [
    "We often want to display numerical values with our own formatting - for example, limiting the number of decimal points displayed. The following are a few examples for you to see what formatting is possible."
   ]
  },
  {
   "cell_type": "code",
   "execution_count": 36,
   "metadata": {},
   "outputs": [
    {
     "name": "stdout",
     "output_type": "stream",
     "text": [
      "Value a = 123.46\n",
      "Value a = 123.46\n",
      "Error a = 0.1235\n",
      "a = 123.4568 +/- 0.1235\n",
      "a = 123.4568 +/- 0.1235\n",
      "a = 123.4568 ± 0.1235\n",
      "a b c d e\n",
      "☺ ♞\n",
      "😀😁😂😃😄\n"
     ]
    }
   ],
   "source": [
    "value_a = 123.45678\n",
    "error_a = 0.123456\n",
    "print('Value a = {:04.2f}'.format(value_a)) # Formatting a single value\n",
    "print(f'Value a = {value_a:04.2f}') # Another way of doing the same thing\n",
    "print('Error a = {:04.4f}'.format(error_a)) # Changing the number of decimal points displayed\n",
    "\n",
    "print('a = {:04.4f} +/- {:04.4f}'.format(value_a,error_a)) # Showing two values\n",
    "print(f'a = {value_a:04.4f} +/- {error_a:04.4f}') # Another way of doing the same thing\n",
    "\n",
    "print(f'a = {value_a:04.4f} \\u00b1 {error_a:04.4f}') # Putting unicode characters into the output\n",
    "\n",
    "print('\\u0061 \\u0062 \\u0063 \\u0064 \\u0065') # Putting basic unicode characters in\n",
    "\n",
    "print('\\u263a \\u265e') # Displaying basic unicode\n",
    "print('\\U0001F600\\U0001F601\\U0001F602\\U0001F603\\U0001F604') # Displaying more complex unicode!"
   ]
  },
  {
   "cell_type": "markdown",
   "metadata": {},
   "source": [
    "Let's look a little more closely at that. It turns out that in Python that there are 3 methods to print formatted numbers. The 'old-fashioned' method is using the **%** character:"
   ]
  },
  {
   "cell_type": "code",
   "execution_count": 42,
   "metadata": {},
   "outputs": [
    {
     "name": "stdout",
     "output_type": "stream",
     "text": [
      "a = 1.2346 and b = 2.3457\n"
     ]
    }
   ],
   "source": [
    "a = 1.23456\n",
    "b = 2.34567\n",
    "print('a = %4.4f and b = %4.4f' % (a,b))"
   ]
  },
  {
   "cell_type": "markdown",
   "metadata": {},
   "source": [
    "This is fine, but gets hard to read if there are lots of variables. The next method is the **format** method we saw earlier:"
   ]
  },
  {
   "cell_type": "code",
   "execution_count": 46,
   "metadata": {},
   "outputs": [
    {
     "name": "stdout",
     "output_type": "stream",
     "text": [
      "a = 1.2346 and b = 2.3457\n"
     ]
    }
   ],
   "source": [
    "a = 1.23456\n",
    "b = 2.34567\n",
    "print('a = {:4.4f} and b = {:4.4f}'.format(a,b))"
   ]
  },
  {
   "cell_type": "markdown",
   "metadata": {},
   "source": [
    "Actually, we can re-order the arguments if we want to (although it can turn out to be quite confusing!):"
   ]
  },
  {
   "cell_type": "code",
   "execution_count": 47,
   "metadata": {},
   "outputs": [
    {
     "name": "stdout",
     "output_type": "stream",
     "text": [
      "b = 2.3457 and a = 1.2346\n"
     ]
    }
   ],
   "source": [
    "a = 1.23456\n",
    "b = 2.34567\n",
    "print('b = {1:4.4f} and a = {0:4.4f}'.format(a,b))"
   ]
  },
  {
   "cell_type": "code",
   "execution_count": 48,
   "metadata": {},
   "outputs": [
    {
     "name": "stdout",
     "output_type": "stream",
     "text": [
      "d = 4.6, e = 5.67, c = 3.457, b = 2.3457 and a = 1.2346\n"
     ]
    }
   ],
   "source": [
    "a = 1.23456\n",
    "b = 2.34567\n",
    "c = 3.4567\n",
    "d = 4.567\n",
    "e = 5.67\n",
    "print('d = {3:1.1f}, e = {4:1.2f}, c = {2:1.3f}, b = {1:4.4f} and a = {0:4.4f}'.format(a,b,c,d,e))"
   ]
  },
  {
   "cell_type": "markdown",
   "metadata": {},
   "source": [
    "Good luck with trying to debug a lot of those!\n",
    "\n",
    "Fortunately, in newer versions of Python (v3.6 onwards) you can use so-called *f-strings*. They work like this:"
   ]
  },
  {
   "cell_type": "code",
   "execution_count": 93,
   "metadata": {},
   "outputs": [
    {
     "name": "stdout",
     "output_type": "stream",
     "text": [
      "a = 1.2346 and b = 2.3457\n"
     ]
    }
   ],
   "source": [
    "a = 1.23456\n",
    "b = 2.34567\n",
    "print(f'a = {a:4.4f} and b = {b:4.4f}')"
   ]
  },
  {
   "cell_type": "markdown",
   "metadata": {},
   "source": [
    "You can also put expressions inside f-strings:"
   ]
  },
  {
   "cell_type": "code",
   "execution_count": 50,
   "metadata": {},
   "outputs": [
    {
     "name": "stdout",
     "output_type": "stream",
     "text": [
      "1.23456 times 2.34567 = 2.8958703552000005\n"
     ]
    }
   ],
   "source": [
    "a = 1.23456\n",
    "b = 2.34567\n",
    "print(f'{a} times {b} = {a*b}')"
   ]
  },
  {
   "cell_type": "markdown",
   "metadata": {},
   "source": [
    "You can print and format other things besides floating-point numbers:"
   ]
  },
  {
   "cell_type": "code",
   "execution_count": 1,
   "metadata": {},
   "outputs": [
    {
     "name": "stdout",
     "output_type": "stream",
     "text": [
      "You are Dr Amazing, and you're great.\n",
      "a = 1000000\n",
      "a = 100\n",
      "a = 40\n",
      "a = 40\n",
      "b =  12345\n",
      "b =  1.234e+04\n",
      "b =  1.234E+04\n",
      "c = 1.34e+19\n",
      "Fraction 0.1 is 10.0%\n"
     ]
    }
   ],
   "source": [
    "a_string = \"Dr Amazing\"\n",
    "a = 64\n",
    "b = 12345\n",
    "c = 1.2345\n",
    "d = 13436148132641238476\n",
    "fraction_val = 0.1\n",
    "print(f\"You are {a_string:s}, and you're great.\") # :s inserts strings\n",
    "print(f'a = {a:b}') # Print in base:binary (integers)\n",
    "print(f'a = {a:o}') # Print in base:octal (integers)\n",
    "print(f'a = {a:x}') # Print in base:hexadecimal (integers)\n",
    "print(f'a = {a:X}') # Print in base:hexadecimal (integers), but in upper case\n",
    "print(f'b = {b:6d}') # Print in base:decimal (integers)\n",
    "print(f'b = {b:10.3e}') # Print in scientific/exponential notation to 3 decimal places, padded to 10 characters\n",
    "print(f'b = {b:10.3E}') # ...same but with capital E\n",
    "print(f'c = {d:1.3g}') # Print in 'general format' - automatically formats numbers appropriately, with 3 digits\n",
    "print(f'Fraction {fraction_val:g} is {fraction_val:2.1%}') # Print fraction as a percentage, with at most 1 digit after the decimal point"
   ]
  },
  {
   "cell_type": "code",
   "execution_count": null,
   "metadata": {},
   "outputs": [],
   "source": []
  }
 ],
 "metadata": {
  "kernelspec": {
   "display_name": "Python 3",
   "language": "python",
   "name": "python3"
  },
  "language_info": {
   "codemirror_mode": {
    "name": "ipython",
    "version": 3
   },
   "file_extension": ".py",
   "mimetype": "text/x-python",
   "name": "python",
   "nbconvert_exporter": "python",
   "pygments_lexer": "ipython3",
   "version": "3.7.7"
  }
 },
 "nbformat": 4,
 "nbformat_minor": 4
}

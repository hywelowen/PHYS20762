{
 "cells": [
  {
   "cell_type": "markdown",
   "metadata": {},
   "source": [
    "<img src=\"img/uomlogo.png\" align=\"left\"/><br><br>\n",
    "# PHYS20762 - Analysing Physics Coin Toss Data\n",
    "\n",
    "(c) Hywel Owen  \n",
    "University of Manchester  \n",
    "3rd April 2020"
   ]
  },
  {
   "cell_type": "markdown",
   "metadata": {},
   "source": [
    "## Real Coin Toss Data"
   ]
  },
  {
   "cell_type": "code",
   "execution_count": 1,
   "metadata": {},
   "outputs": [],
   "source": [
    "# Uncomment the line below to be able to spin all the plots.\n",
    "# %matplotlib notebook\n",
    "import numpy as np\n",
    "import matplotlib.pyplot as plt\n",
    "import math\n",
    "\n",
    "plt.rcParams.update({'font.size': 14})\n",
    "plt.style.use('default')"
   ]
  },
  {
   "cell_type": "markdown",
   "metadata": {},
   "source": [
    "In this notebook we will explore the properties of coin tosses, and their statistical properties.\n",
    "\n",
    "My daughter has a penny. She tossed the penny one thousand times, in groups of 100 tosses, each divided in 10 groups of 10 coin tosses each. Every toss was either Heads (H) or Tails (T).\n",
    "\n",
    "For example, the first set of 10 coin tosses was recorded like this:\n",
    "'TTHTHHTTTT'\n",
    "\n"
   ]
  },
  {
   "cell_type": "code",
   "execution_count": 13,
   "metadata": {},
   "outputs": [
    {
     "data": {
      "text/plain": [
       "'H'"
      ]
     },
     "execution_count": 13,
     "metadata": {},
     "output_type": "execute_result"
    }
   ],
   "source": [
    "cointoss = 'TTHTHHTTTT'\n",
    "cointoss[4]"
   ]
  },
  {
   "cell_type": "code",
   "execution_count": 18,
   "metadata": {},
   "outputs": [
    {
     "name": "stdout",
     "output_type": "stream",
     "text": [
      "[0. 0. 1. 0. 1. 1. 0. 0. 0. 0.]\n"
     ]
    }
   ],
   "source": [
    "# We can define each 'game' of 10 \n",
    "cointoss = 'TTHTHHTTTT'\n",
    "\n",
    "def HTtoNumbers(cointoss):\n",
    "    cointoss_numerical = np.zeros(len(cointoss))\n",
    "    for i in range(len(cointoss)):\n",
    "        if cointoss[i] == 'H':\n",
    "            cointoss_numerical[i] = 1\n",
    "    return(cointoss_numerical)\n",
    "\n",
    "cointoss_numerical = HTtoNumbers(cointoss)\n",
    "print(cointoss_numerical)"
   ]
  },
  {
   "cell_type": "code",
   "execution_count": 21,
   "metadata": {},
   "outputs": [],
   "source": [
    "# First set of 100 coin toss games\n",
    "\n",
    "cointoss1 = ['TTHTHHTTTT',\n",
    "            'TTTHTHTTHH',\n",
    "            'THHTHHHTTT',\n",
    "            'THHTHTTTTT',\n",
    "            'HTHHHHTHTT',\n",
    "            'HHHTHHTHHT',\n",
    "            'HTTTTHTHHH',\n",
    "            'TTTTTHTHTT',\n",
    "            'HTTHTTTHTT',\n",
    "            'TTTTTTHHHH']\n",
    "\n",
    "cointoss2 = ['THHTHTTHHT',\n",
    "             'THTHHHTHHT',\n",
    "             'HHTHHHTTTT',\n",
    "             'TTHHTTHTTT',\n",
    "             'TTHTHTHHTH',\n",
    "             'TTHTHTTTHH',\n",
    "             'HTHTTHHTHH',\n",
    "             'THTTHTHHTT',\n",
    "             'HTHTTTTTHH',\n",
    "             'TTHTTHTHTT']\n",
    "\n"
   ]
  },
  {
   "cell_type": "markdown",
   "metadata": {},
   "source": [
    "## Gaussian Random Variates from the Central Limit Theorem"
   ]
  }
 ],
 "metadata": {
  "kernelspec": {
   "display_name": "Python 3",
   "language": "python",
   "name": "python3"
  },
  "language_info": {
   "codemirror_mode": {
    "name": "ipython",
    "version": 3
   },
   "file_extension": ".py",
   "mimetype": "text/x-python",
   "name": "python",
   "nbconvert_exporter": "python",
   "pygments_lexer": "ipython3",
   "version": "3.7.7"
  }
 },
 "nbformat": 4,
 "nbformat_minor": 4
}

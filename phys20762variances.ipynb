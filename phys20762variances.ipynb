{
 "cells": [
  {
   "cell_type": "markdown",
   "metadata": {},
   "source": [
    "# PHYS20762 - Variances in Monte Carlo Calculations\n",
    "\n",
    "(c) Hywel Owen  \n",
    "University of Manchester  \n",
    "5th May 2020"
   ]
  },
  {
   "cell_type": "markdown",
   "metadata": {},
   "source": [
    "In this notebook we look at calculating the variances of various random sample sets.\n",
    "\n",
    "First, we load the regular packages into Python:"
   ]
  },
  {
   "cell_type": "code",
   "execution_count": 2,
   "metadata": {},
   "outputs": [],
   "source": [
    "# Uncomment the line below to be able to spin all the plots.\n",
    "# %matplotlib notebook\n",
    "import numpy as np\n",
    "import matplotlib.pyplot as plt\n",
    "import math\n",
    "from mpl_toolkits.mplot3d import Axes3D\n",
    "\n",
    "plt.rcParams.update({'font.size': 14})\n",
    "plt.style.use('default')"
   ]
  },
  {
   "cell_type": "markdown",
   "metadata": {},
   "source": [
    "## Flipping a Coin\n",
    "\n",
    "We here create a virtual 'coin toss'. First, we define a function that flips our virtual coin and tells us 'True' if it's heads and 'False' if it's tails:"
   ]
  },
  {
   "cell_type": "code",
   "execution_count": 4,
   "metadata": {},
   "outputs": [
    {
     "data": {
      "text/plain": [
       "True"
      ]
     },
     "execution_count": 4,
     "metadata": {},
     "output_type": "execute_result"
    }
   ],
   "source": [
    "def coin_flip():\n",
    "    return True if np.random.random() > 0.5 else False\n",
    "\n",
    "coin_flip()"
   ]
  },
  {
   "cell_type": "markdown",
   "metadata": {},
   "source": [
    "We can test our **coin_flip()** function 'flipping' our coin and printing the result:"
   ]
  },
  {
   "cell_type": "code",
   "execution_count": 5,
   "metadata": {},
   "outputs": [
    {
     "name": "stdout",
     "output_type": "stream",
     "text": [
      "False\n",
      "True\n",
      "True\n",
      "False\n",
      "True\n",
      "True\n",
      "True\n",
      "False\n",
      "True\n",
      "False\n"
     ]
    }
   ],
   "source": [
    "for i in range(10):\n",
    "    print(coin_flip())"
   ]
  },
  {
   "cell_type": "markdown",
   "metadata": {},
   "source": [
    "Now let's make another similar function that *tallies* up how many heads we get from $n$ coin tosses, using our **coin_flip()** function:"
   ]
  },
  {
   "cell_type": "code",
   "execution_count": 6,
   "metadata": {},
   "outputs": [
    {
     "data": {
      "text/plain": [
       "46"
      ]
     },
     "execution_count": 6,
     "metadata": {},
     "output_type": "execute_result"
    }
   ],
   "source": [
    "def n_coin_flips(n):\n",
    "    return sum([1 if coin_flip() else 0 for i in range(n)])\n",
    "\n",
    "n_coin_flips(100)"
   ]
  },
  {
   "cell_type": "markdown",
   "metadata": {},
   "source": [
    "We can now use this function to create a set of $m$ coin-toss experiments, each with $n$ coin flips:"
   ]
  },
  {
   "cell_type": "code",
   "execution_count": 7,
   "metadata": {},
   "outputs": [
    {
     "data": {
      "text/plain": [
       "[55, 49, 47, 55, 46, 62, 54, 49, 46, 53]"
      ]
     },
     "execution_count": 7,
     "metadata": {},
     "output_type": "execute_result"
    }
   ],
   "source": [
    "def m_coin_flip_experiments(m,n):\n",
    "    return [n_coin_flips(n) for i in range(m)]\n",
    "\n",
    "m_coin_flip_experiments(10,100)"
   ]
  },
  {
   "cell_type": "markdown",
   "metadata": {},
   "source": [
    "We can now histogram these to see the distribution in the number of heads we expect. We do 1000 experiments, each of 100 coin tosses:"
   ]
  },
  {
   "cell_type": "code",
   "execution_count": 8,
   "metadata": {},
   "outputs": [
    {
     "data": {
      "text/plain": [
       "(array([  16.,  158.,  784., 2152., 2304., 2763., 1382.,  374.,   58.,\n",
       "           9.]),\n",
       " array([32. , 35.8, 39.6, 43.4, 47.2, 51. , 54.8, 58.6, 62.4, 66.2, 70. ]),\n",
       " <a list of 10 Patch objects>)"
      ]
     },
     "execution_count": 8,
     "metadata": {},
     "output_type": "execute_result"
    },
    {
     "data": {
      "image/png": "[encoded data removed]",
      "text/plain": [
       "<Figure size 640x480 with 1 Axes>"
      ]
     },
     "metadata": {},
     "output_type": "display_data"
    }
   ],
   "source": [
    "plt.hist(m_coin_flip_experiments(10000,100))"
   ]
  },
  {
   "cell_type": "markdown",
   "metadata": {},
   "source": [
    "We see that the expectation value of the number of heads is as we expect:"
   ]
  },
  {
   "cell_type": "code",
   "execution_count": 7,
   "metadata": {},
   "outputs": [
    {
     "data": {
      "text/plain": [
       "50.0434"
      ]
     },
     "execution_count": 7,
     "metadata": {},
     "output_type": "execute_result"
    }
   ],
   "source": [
    "np.mean(m_coin_flip_experiments(10000,100))"
   ]
  },
  {
   "cell_type": "markdown",
   "metadata": {},
   "source": [
    "We can also calculate the variance:"
   ]
  },
  {
   "cell_type": "code",
   "execution_count": 8,
   "metadata": {},
   "outputs": [
    {
     "data": {
      "text/plain": [
       "25.010910040000002"
      ]
     },
     "execution_count": 8,
     "metadata": {},
     "output_type": "execute_result"
    }
   ],
   "source": [
    "np.var(m_coin_flip_experiments(10000,100))"
   ]
  },
  {
   "cell_type": "markdown",
   "metadata": {},
   "source": [
    "The correct binomial variance should be $n p (1-p)$, where $n$ is the number of coin tosses in each experiment, and $p=0.5$ is the probability in each toss of getting a head:"
   ]
  },
  {
   "cell_type": "code",
   "execution_count": 9,
   "metadata": {},
   "outputs": [
    {
     "name": "stdout",
     "output_type": "stream",
     "text": [
      "25.0\n",
      "5.0\n"
     ]
    }
   ],
   "source": [
    "n = 100\n",
    "p = 0.5\n",
    "var_estimate = n*p*(1-p)\n",
    "std_estimate = np.sqrt(var_estimate)\n",
    "print(var_estimate)\n",
    "print(std_estimate)"
   ]
  },
  {
   "cell_type": "markdown",
   "metadata": {},
   "source": [
    "So, our binomial estimate is correct. In the case of the simple coin toss, using a Poisson approximation, i.e. $\\mu = var = \\lambda$ is no good:"
   ]
  },
  {
   "cell_type": "code",
   "execution_count": 10,
   "metadata": {},
   "outputs": [
    {
     "name": "stdout",
     "output_type": "stream",
     "text": [
      "50.0\n",
      "7.0710678118654755\n"
     ]
    }
   ],
   "source": [
    "n = 100\n",
    "p = 0.5\n",
    "mu = n*p\n",
    "# Note, in Python we are not allowed to the use the word 'lambda' as it is reserved\n",
    "lamb = mu\n",
    "var_estimate = lamb # Estimating the variance from the mean, assuming a Poisson distribution\n",
    "std_estimate = np.sqrt(var_estimate) # Estimating the standard deviation\n",
    "print(var_estimate)\n",
    "print(std_estimate)"
   ]
  },
  {
   "cell_type": "markdown",
   "metadata": {},
   "source": [
    "We can't use the Normal approximation to a Poisson, which would be essentially the same calculation. But we see that our incorrect estimates are at least *over-estimates* on our uncertainty:"
   ]
  },
  {
   "cell_type": "code",
   "execution_count": 11,
   "metadata": {},
   "outputs": [
    {
     "name": "stdout",
     "output_type": "stream",
     "text": [
      "7.0710678118654755\n"
     ]
    }
   ],
   "source": [
    "n = 100\n",
    "p = 0.5\n",
    "mu = n*p\n",
    "std_estimate = np.sqrt(mu) # Estimating the standard deviation assuming it's Normal\n",
    "print(std_estimate)"
   ]
  },
  {
   "cell_type": "markdown",
   "metadata": {},
   "source": [
    "## Flipping a Coin with a Small Head"
   ]
  },
  {
   "cell_type": "markdown",
   "metadata": {},
   "source": [
    "Let's change our coin toss experiment, and imagine a coin with a small probability $p = 0.1$ of being a head. We re-write our coin toss functions with this new probability. Let's first try it with:\n",
    "\n",
    "$p = 0.1$  \n",
    "$n = 100$  \n",
    "$m = 100000$   "
   ]
  },
  {
   "cell_type": "code",
   "execution_count": 10,
   "metadata": {},
   "outputs": [
    {
     "data": {
      "text/plain": [
       "(array([2.0500e+02, 2.2490e+03, 1.8203e+04, 2.4735e+04, 3.4766e+04,\n",
       "        1.2608e+04, 6.2300e+03, 7.8600e+02, 2.0400e+02, 1.4000e+01]),\n",
       " array([ 0. ,  2.5,  5. ,  7.5, 10. , 12.5, 15. , 17.5, 20. , 22.5, 25. ]),\n",
       " <a list of 10 Patch objects>)"
      ]
     },
     "execution_count": 10,
     "metadata": {},
     "output_type": "execute_result"
    },
    {
     "data": {
      "image/png": "[encoded data removed]",
      "text/plain": [
       "<Figure size 640x480 with 1 Axes>"
      ]
     },
     "metadata": {},
     "output_type": "display_data"
    }
   ],
   "source": [
    "def coin_flip(p):\n",
    "    return True if np.random.random() < p else False\n",
    "\n",
    "def n_coin_flips(n,p):\n",
    "    return sum([1 if coin_flip(p) else 0 for i in range(n)])\n",
    "\n",
    "def m_coin_flip_experiments(m,n,p):\n",
    "    return [n_coin_flips(n,p) for i in range(m)]\n",
    "\n",
    "plt.hist(m_coin_flip_experiments(100000,100,0.1))"
   ]
  },
  {
   "cell_type": "markdown",
   "metadata": {},
   "source": [
    "We see that the mean is close to the expectation value $\\mu = np$ that we expect:"
   ]
  },
  {
   "cell_type": "code",
   "execution_count": 20,
   "metadata": {},
   "outputs": [
    {
     "data": {
      "text/plain": [
       "10.0266"
      ]
     },
     "execution_count": 20,
     "metadata": {},
     "output_type": "execute_result"
    }
   ],
   "source": [
    "np.mean(m_coin_flip_experiments(10000,100,0.1))"
   ]
  },
  {
   "cell_type": "markdown",
   "metadata": {},
   "source": [
    "Because $p$ is small, the variance is now reasonably Poisson distributed, so that $var \\simeq \\mu$: "
   ]
  },
  {
   "cell_type": "code",
   "execution_count": 19,
   "metadata": {},
   "outputs": [
    {
     "data": {
      "text/plain": [
       "9.131807190000002"
      ]
     },
     "execution_count": 19,
     "metadata": {},
     "output_type": "execute_result"
    }
   ],
   "source": [
    "np.var(m_coin_flip_experiments(10000,100,0.1))\\"
   ]
  },
  {
   "cell_type": "markdown",
   "metadata": {},
   "source": [
    "We can there now use our Poisson/Gaussian approximation:"
   ]
  },
  {
   "cell_type": "code",
   "execution_count": 18,
   "metadata": {},
   "outputs": [
    {
     "name": "stdout",
     "output_type": "stream",
     "text": [
      "10.0\n",
      "3.1622776601683795\n"
     ]
    }
   ],
   "source": [
    "n = 100\n",
    "p = 0.1\n",
    "mu = n*p\n",
    "# Note, in Python we are not allowed to the use the word 'lambda' as it is reserved\n",
    "lamb = mu\n",
    "var_estimate = lamb # Estimating the variance from the mean, assuming a Poisson distribution\n",
    "std_estimate = np.sqrt(var_estimate) # Estimating the standard deviation\n",
    "print(var_estimate)\n",
    "print(std_estimate)"
   ]
  },
  {
   "cell_type": "code",
   "execution_count": null,
   "metadata": {},
   "outputs": [],
   "source": []
  }
 ],
 "metadata": {
  "kernelspec": {
   "display_name": "Python 3",
   "language": "python",
   "name": "python3"
  },
  "language_info": {
   "codemirror_mode": {
    "name": "ipython",
    "version": 3
   },
   "file_extension": ".py",
   "mimetype": "text/x-python",
   "name": "python",
   "nbconvert_exporter": "python",
   "pygments_lexer": "ipython3",
   "version": "3.7.7"
  }
 },
 "nbformat": 4,
 "nbformat_minor": 4
}

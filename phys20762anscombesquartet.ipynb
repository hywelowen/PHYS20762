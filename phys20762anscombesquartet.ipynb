{
 "cells": [
  {
   "cell_type": "markdown",
   "metadata": {},
   "source": [
    "<img src=\"img/uomlogo.png\" align=\"left\"/><br><br>\n",
    "# PHYS20762 - Anscombe's Quartet\n",
    "\n",
    "(c) Hywel Owen  \n",
    "University of Manchester  \n",
    "27th February 2020"
   ]
  },
  {
   "cell_type": "code",
   "execution_count": 2,
   "metadata": {},
   "outputs": [],
   "source": [
    "import numpy as np\n",
    "import matplotlib.pyplot as plt\n",
    "import math\n",
    "\n",
    "plt.rcParams.update({'font.size': 14})\n",
    "plt.style.use('default')"
   ]
  },
  {
   "cell_type": "markdown",
   "metadata": {},
   "source": [
    "![](img/bee.png)\n",
    "## Anscombe's Quartet"
   ]
  },
  {
   "cell_type": "markdown",
   "metadata": {},
   "source": [
    "In this notebook we numerically demonstrate Anscombe's Quartet, which illustrates the importance of graphing data as well as carrying out numerical measures of the statistical properties of that data. We use the data given in the Wikipedia article here:  \n",
    "http://en.wikipedia.org/wiki/Anscombe's_quartet"
   ]
  },
  {
   "cell_type": "markdown",
   "metadata": {},
   "source": [
    "First we define the four data sets: (x1,y1), (x2,y2), (x3,y3), (x4,y4):"
   ]
  },
  {
   "cell_type": "code",
   "execution_count": 3,
   "metadata": {},
   "outputs": [],
   "source": [
    "x1 = np.array([10, 8, 13, 9, 11, 14, 6, 4, 12, 7, 5])\n",
    "y1 = np.array([8.04, 6.95, 7.58, 8.81, 8.33, 9.96, 7.24, 4.26, 10.84, 4.82, 5.68])\n",
    "\n",
    "x2 = np.array([10, 8, 13, 9, 11, 14, 6, 4, 12, 7, 5])\n",
    "y2 = np.array([9.14, 8.14, 8.74, 8.77, 9.26, 8.1, 6.13, 3.1, 9.13, 7.26, 4.74])\n",
    "\n",
    "x3 = np.array([10, 8, 13, 9, 11, 14, 6, 4, 12, 7, 5])\n",
    "y3 = np.array([7.46, 6.77, 12.74, 7.11, 7.81, 8.84, 6.08, 5.39, 8.15, 6.42, 5.73])\n",
    "\n",
    "x4 = np.array([8, 8, 8, 8, 8, 8, 8, 19, 8, 8, 8])\n",
    "y4 = np.array([6.58, 5.76, 7.71, 8.84, 8.47, 7.04, 5.25, 12.5, 5.56, 7.91, 6.89])"
   ]
  },
  {
   "cell_type": "markdown",
   "metadata": {},
   "source": [
    "We calculate the mean of the four x arrays, and see that they are all the same:"
   ]
  },
  {
   "cell_type": "code",
   "execution_count": 4,
   "metadata": {},
   "outputs": [
    {
     "name": "stdout",
     "output_type": "stream",
     "text": [
      "9.0\n",
      "9.0\n",
      "9.0\n",
      "9.0\n"
     ]
    }
   ],
   "source": [
    "print(np.mean(x1))\n",
    "print(np.mean(x2))\n",
    "print(np.mean(x3))\n",
    "print(np.mean(x4))"
   ]
  },
  {
   "cell_type": "markdown",
   "metadata": {},
   "source": [
    "The variances of x also look the same as each other:"
   ]
  },
  {
   "cell_type": "code",
   "execution_count": 5,
   "metadata": {},
   "outputs": [
    {
     "name": "stdout",
     "output_type": "stream",
     "text": [
      "10.0\n",
      "10.0\n",
      "10.0\n",
      "10.0\n"
     ]
    }
   ],
   "source": [
    "print(np.var(x1))\n",
    "print(np.var(x2))\n",
    "print(np.var(x3))\n",
    "print(np.var(x4))"
   ]
  },
  {
   "cell_type": "markdown",
   "metadata": {},
   "source": [
    "Similarly, the means and variances of the y arrays are also the same as each other:"
   ]
  },
  {
   "cell_type": "code",
   "execution_count": 6,
   "metadata": {},
   "outputs": [
    {
     "name": "stdout",
     "output_type": "stream",
     "text": [
      "7.500909090909093\n",
      "7.50090909090909\n",
      "7.5\n",
      "7.500909090909091\n"
     ]
    }
   ],
   "source": [
    "print(np.mean(y1))\n",
    "print(np.mean(y2))\n",
    "print(np.mean(y3))\n",
    "print(np.mean(y4))"
   ]
  },
  {
   "cell_type": "code",
   "execution_count": 7,
   "metadata": {},
   "outputs": [
    {
     "name": "stdout",
     "output_type": "stream",
     "text": [
      "3.7520628099173554\n",
      "3.752390082644628\n",
      "3.747836363636364\n",
      "3.7484082644628103\n"
     ]
    }
   ],
   "source": [
    "print(np.var(y1))\n",
    "print(np.var(y2))\n",
    "print(np.var(y3))\n",
    "print(np.var(y4))"
   ]
  },
  {
   "cell_type": "markdown",
   "metadata": {},
   "source": [
    "The 4 data sets also have the same correlation coefficient between their data points:"
   ]
  },
  {
   "cell_type": "code",
   "execution_count": 8,
   "metadata": {},
   "outputs": [
    {
     "name": "stdout",
     "output_type": "stream",
     "text": [
      "0.81642051634484\n",
      "0.8162365060002428\n",
      "0.8162867394895984\n",
      "0.8165214368885028\n"
     ]
    }
   ],
   "source": [
    "print(np.corrcoef(x1,y1)[0][1])\n",
    "print(np.corrcoef(x2,y2)[0][1])\n",
    "print(np.corrcoef(x3,y3)[0][1])\n",
    "print(np.corrcoef(x4,y4)[0][1])"
   ]
  },
  {
   "cell_type": "markdown",
   "metadata": {},
   "source": [
    "Finally, when we do a linear fit to each of the data sets, we see that the best-fit lines are also the same as each other:"
   ]
  },
  {
   "cell_type": "code",
   "execution_count": 10,
   "metadata": {},
   "outputs": [
    {
     "name": "stdout",
     "output_type": "stream",
     "text": [
      "y = 0.50 x + 3.00\n",
      "y = 0.50 x + 3.00\n",
      "y = 0.50 x + 3.00\n",
      "y = 0.50 x + 3.00\n"
     ]
    }
   ],
   "source": [
    "m1, c1 = np.polyfit(x1,y1,1)\n",
    "print('y = {:04.2f} x + {:04.2f}'.format(m1,c1))\n",
    "m2, c2 = np.polyfit(x2,y2,1)\n",
    "print('y = {:04.2f} x + {:04.2f}'.format(m2,c2))\n",
    "m3, c3 = np.polyfit(x3,y3,1)\n",
    "print('y = {:04.2f} x + {:04.2f}'.format(m3,c3))\n",
    "m4, c4 = np.polyfit(x4,y4,1)\n",
    "print('y = {:04.2f} x + {:04.2f}'.format(m4,c4))"
   ]
  },
  {
   "cell_type": "markdown",
   "metadata": {},
   "source": [
    "So, we see from the above discussion that the data sets look the same as each other **numerically**. However, the point of these data sets is to show that simple numerical measures can be misleading."
   ]
  },
  {
   "cell_type": "markdown",
   "metadata": {},
   "source": [
    "To illustrate this, we first generate the fitted lines to our 4 data sets (yes, they're all the same as each other but let's generate them separately anyway):"
   ]
  },
  {
   "cell_type": "code",
   "execution_count": 17,
   "metadata": {},
   "outputs": [],
   "source": [
    "xfit = np.arange(0,20,0.1) # x values to generate fitted lines for all datasets\n",
    "yfit1 = m1*xfit + c1\n",
    "yfit2 = m2*xfit + c2\n",
    "yfit3 = m3*xfit + c3\n",
    "yfit4 = m4*xfit + c4"
   ]
  },
  {
   "cell_type": "markdown",
   "metadata": {},
   "source": [
    "We then plot each fitted line against its original data set:"
   ]
  },
  {
   "cell_type": "code",
   "execution_count": 22,
   "metadata": {},
   "outputs": [
    {
     "data": {
      "text/plain": [
       "[<matplotlib.lines.Line2D at 0x11d6fee90>]"
      ]
     },
     "execution_count": 22,
     "metadata": {},
     "output_type": "execute_result"
    },
    {
     "data": {
      "image/png": "[encoded data removed]",
      "text/plain": [
       "<Figure size 640x480 with 4 Axes>"
      ]
     },
     "metadata": {},
     "output_type": "display_data"
    }
   ],
   "source": [
    "plt.subplot(221)\n",
    "plt.plot(xfit,yfit1)\n",
    "plt.plot(x1,y1,'ro')\n",
    "plt.subplot(222)\n",
    "plt.plot(xfit,yfit2)\n",
    "plt.plot(x2,y2,'ro')\n",
    "plt.subplot(223)\n",
    "plt.plot(xfit,yfit3)\n",
    "plt.plot(x3,y3,'ro')\n",
    "plt.subplot(224)\n",
    "plt.plot(xfit,yfit4)\n",
    "plt.plot(x4,y4,'ro')"
   ]
  },
  {
   "cell_type": "markdown",
   "metadata": {},
   "source": [
    "Obviously, there is a great deal of different between the 4 data sets. Let's discuss and interpret each in turn:  \n",
    "  \n",
    "Data set (x1,y1) is sort-of 'normal'; the data exhibits the typical behaviour one might expect from random (experimental) fluctuations in the individual values.  \n",
    "  \n",
    "Data set (x2,y2) has a very obvious systematic behaviour and is obviously not randomly-fluctuating. But - as we have seen - you would not see this just by calculating the numerical values of the fits, correlation etc.  \n",
    "  \n",
    "Data set (x3,y3) is different. Quite obviously there is a bad data point, that makes data with quite different behaviour (different gradient and different correlation) look like data set (x1,y1).  \n",
    "  \n",
    "Data set (x4,y4) is even worse! We clearly see by inspection that there is a single bad data point that changes the apparent behaviour of this data. Without the bad data point, we see that there is **no** relationship between the x and y values. y varies without any variation of x at all. Perhaps the instrument making the x values was broken!"
   ]
  },
  {
   "cell_type": "markdown",
   "metadata": {},
   "source": [
    "So, the conclusion here is obvious. You should plot your data to see what it looks like!"
   ]
  },
  {
   "cell_type": "code",
   "execution_count": null,
   "metadata": {},
   "outputs": [],
   "source": []
  }
 ],
 "metadata": {
  "kernelspec": {
   "display_name": "Python 3",
   "language": "python",
   "name": "python3"
  },
  "language_info": {
   "codemirror_mode": {
    "name": "ipython",
    "version": 3
   },
   "file_extension": ".py",
   "mimetype": "text/x-python",
   "name": "python",
   "nbconvert_exporter": "python",
   "pygments_lexer": "ipython3",
   "version": "3.7.7"
  }
 },
 "nbformat": 4,
 "nbformat_minor": 4
}

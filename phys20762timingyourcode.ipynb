{
 "cells": [
  {
   "cell_type": "markdown",
   "metadata": {},
   "source": [
    "<img src=\"img/uomlogo.png\" align=\"left\"/><br><br>\n",
    "# PHYS20762 - Timing Your Code\n",
    "\n",
    "(c) Hywel Owen  \n",
    "University of Manchester  \n",
    "29th April 2020"
   ]
  },
  {
   "cell_type": "markdown",
   "metadata": {},
   "source": [
    "In this notebook, I show some hints and tricks for timing your code and improving its speed."
   ]
  },
  {
   "cell_type": "markdown",
   "metadata": {},
   "source": [
    "## Timing Code\n",
    "\n",
    "First, we load the usual packages into Python:"
   ]
  },
  {
   "cell_type": "code",
   "execution_count": 18,
   "metadata": {},
   "outputs": [],
   "source": [
    "# Uncomment the line below to be able to spin all the plots.\n",
    "# %matplotlib notebook\n",
    "import numpy as np\n",
    "import matplotlib.pyplot as plt\n",
    "import math\n",
    "from mpl_toolkits.mplot3d import Axes3D\n",
    "\n",
    "plt.rcParams.update({'font.size': 14})\n",
    "plt.style.use('default')"
   ]
  },
  {
   "cell_type": "markdown",
   "metadata": {},
   "source": [
    "Jupyter provides us with so-called *magic* commands that operate within the Jupyter notebook but which are not really part of the Python language. For timing code, we have the most important commands:\n",
    "\n",
    "* The line-magic timing commands **%timeit** and **%time**\n",
    "* The cell-magic timing command **%%timeit** and **%time**\n",
    "* The line-magic profiler command **%prun**\n",
    "\n",
    "Line-magic commands operate on a single line of code (i.e. a command). Cell-magic commands operate on a whole Jupyter cell. Let's look at a simple example:"
   ]
  },
  {
   "cell_type": "code",
   "execution_count": 1,
   "metadata": {},
   "outputs": [
    {
     "name": "stdout",
     "output_type": "stream",
     "text": [
      "13.7 µs ± 69.1 ns per loop (mean ± std. dev. of 7 runs, 100000 loops each)\n"
     ]
    }
   ],
   "source": [
    "%timeit sum(range(1000))"
   ]
  },
  {
   "cell_type": "markdown",
   "metadata": {},
   "source": [
    "The **%timeit** command times a line of code, and automatically runs that line a number of times to give an average execution time. The number of times (the *loops* value) is automatically adjusted."
   ]
  },
  {
   "cell_type": "markdown",
   "metadata": {},
   "source": [
    "The cell-magic command **%%timeit** times the execution of a whole cell:"
   ]
  },
  {
   "cell_type": "code",
   "execution_count": 5,
   "metadata": {},
   "outputs": [
    {
     "name": "stdout",
     "output_type": "stream",
     "text": [
      "81.8 ms ± 2.61 ms per loop (mean ± std. dev. of 7 runs, 10 loops each)\n"
     ]
    }
   ],
   "source": [
    "%%timeit\n",
    "total = 0\n",
    "for i in range(1000):\n",
    "    for j in range(1000):\n",
    "        total += i * j"
   ]
  },
  {
   "cell_type": "markdown",
   "metadata": {},
   "source": [
    "If we have a single line of code that takes a long-ish time to execute, then we can use the **%time** command to do a single time measurement"
   ]
  },
  {
   "cell_type": "code",
   "execution_count": 12,
   "metadata": {},
   "outputs": [
    {
     "name": "stdout",
     "output_type": "stream",
     "text": [
      "CPU times: user 288 ms, sys: 7.48 ms, total: 295 ms\n",
      "Wall time: 309 ms\n"
     ]
    }
   ],
   "source": [
    "import random\n",
    "L = [random.random() for i in range(1000000)]\n",
    "%time L.sort()"
   ]
  },
  {
   "cell_type": "markdown",
   "metadata": {},
   "source": [
    "Similarly, if we have a cell that we want to time once, then we can use **%%time**:"
   ]
  },
  {
   "cell_type": "code",
   "execution_count": 14,
   "metadata": {},
   "outputs": [
    {
     "name": "stdout",
     "output_type": "stream",
     "text": [
      "CPU times: user 3.49 s, sys: 15.9 ms, total: 3.51 s\n",
      "Wall time: 3.55 s\n"
     ]
    }
   ],
   "source": [
    "%%time\n",
    "total = 0\n",
    "for i in range(5000):\n",
    "    for j in range(5000):\n",
    "        total += i * j"
   ]
  },
  {
   "cell_type": "markdown",
   "metadata": {},
   "source": [
    "We can get more detail about how a code (with sub-functions) runs by using the code profiler **%prun**. Let's try it on the standard **Numba** example that calculates $\\pi$:"
   ]
  },
  {
   "cell_type": "code",
   "execution_count": 59,
   "metadata": {},
   "outputs": [
    {
     "name": "stdout",
     "output_type": "stream",
     "text": [
      " "
     ]
    }
   ],
   "source": [
    "def monte_carlo_pi(nsamples):\n",
    "    acc = 0\n",
    "    for i in range(nsamples):\n",
    "        x = np.random.random()\n",
    "        y = np.random.random()\n",
    "        if (x ** 2 + y ** 2) < 1.0:\n",
    "            acc += 1\n",
    "    return 4.0 * acc / nsamples\n",
    "\n",
    "%prun monte_carlo_pi(100000)"
   ]
  },
  {
   "cell_type": "markdown",
   "metadata": {},
   "source": [
    "## Improving Execution Speed\n",
    "\n",
    "Let's look at some basic methods of improving execution speed."
   ]
  },
  {
   "cell_type": "markdown",
   "metadata": {},
   "source": [
    "### Method 1 - Optimising Loops\n",
    "\n",
    "We imagine carrying out some integral in 2 dimensions, where the integral depends on some parameters (here, **a**, **b** and **c**). We time the code as usual:"
   ]
  },
  {
   "cell_type": "code",
   "execution_count": 34,
   "metadata": {},
   "outputs": [
    {
     "name": "stdout",
     "output_type": "stream",
     "text": [
      "0.31358747187644437\n",
      "0.31358747187644437\n",
      "0.31358747187644437\n",
      "0.31358747187644437\n",
      "0.31358747187644437\n",
      "0.31358747187644437\n",
      "0.31358747187644437\n",
      "0.31358747187644437\n",
      "1.75 s ± 44.7 ms per loop (mean ± std. dev. of 7 runs, 1 loop each)\n"
     ]
    }
   ],
   "source": [
    "%%timeit\n",
    "# Integrating a function over some x,y domain\n",
    "cum_int = 0\n",
    "for x in np.arange(0,2*np.pi,0.01):\n",
    "    for y in np.arange(0,2*np.pi,0.01):\n",
    "        a = 5.2 # Define some parameters to be used in the integral function\n",
    "        b = np.exp(a)\n",
    "        c = a*b\n",
    "        cum_int = cum_int + np.sin(c*x)*np.cos(c*y)\n",
    "print(cum_int)"
   ]
  },
  {
   "cell_type": "markdown",
   "metadata": {},
   "source": [
    "A basic way to speed things up is to move the repeated calculation of **c** out of the loop, since it is a constant value:"
   ]
  },
  {
   "cell_type": "code",
   "execution_count": 36,
   "metadata": {},
   "outputs": [
    {
     "name": "stdout",
     "output_type": "stream",
     "text": [
      "0.31358747187644437\n",
      "0.31358747187644437\n",
      "0.31358747187644437\n",
      "0.31358747187644437\n",
      "0.31358747187644437\n",
      "0.31358747187644437\n",
      "0.31358747187644437\n",
      "0.31358747187644437\n",
      "1.28 s ± 8.74 ms per loop (mean ± std. dev. of 7 runs, 1 loop each)\n"
     ]
    }
   ],
   "source": [
    "%%timeit\n",
    "# Integrating a function over some x,y domain\n",
    "cum_int = 0\n",
    "a = 5.2 # Define some parameters to be used in the integral function\n",
    "b = np.exp(a)\n",
    "c = a*b\n",
    "for x in np.arange(0,2*np.pi,0.01):\n",
    "    for y in np.arange(0,2*np.pi,0.01):\n",
    "        cum_int = cum_int + np.sin(c*x)*np.cos(c*y)\n",
    "print(cum_int)"
   ]
  },
  {
   "cell_type": "markdown",
   "metadata": {},
   "source": [
    "### Method 2 - Compiling code with Numba\n",
    "\n",
    "We can drastically speed up code by compiling it. Python provides a way to do this easily with **Numba**. First, we create a compiled function that does the integral:"
   ]
  },
  {
   "cell_type": "code",
   "execution_count": 44,
   "metadata": {},
   "outputs": [
    {
     "name": "stdout",
     "output_type": "stream",
     "text": [
      "0.31358747186603225\n"
     ]
    }
   ],
   "source": [
    "from numba import jit\n",
    "\n",
    "@jit(nopython=True)\n",
    "def do_integral():\n",
    "    cum_int = 0\n",
    "    a = 5.2 # Define some parameters to be used in the integral function\n",
    "    b = np.exp(a)\n",
    "    c = a*b\n",
    "    for x in np.arange(0,2*np.pi,0.01):\n",
    "        for y in np.arange(0,2*np.pi,0.01):\n",
    "            cum_int = cum_int + np.sin(c*x)*np.cos(c*y)\n",
    "    return(cum_int)\n",
    "    \n",
    "answer = do_integral()\n",
    "print(answer)"
   ]
  },
  {
   "cell_type": "markdown",
   "metadata": {},
   "source": [
    "Then we time how long it takes to do the calculation:"
   ]
  },
  {
   "cell_type": "code",
   "execution_count": 45,
   "metadata": {},
   "outputs": [
    {
     "name": "stdout",
     "output_type": "stream",
     "text": [
      "5.02 ms ± 51.4 µs per loop (mean ± std. dev. of 7 runs, 100 loops each)\n"
     ]
    }
   ],
   "source": [
    "%%timeit\n",
    "do_integral()"
   ]
  },
  {
   "cell_type": "markdown",
   "metadata": {},
   "source": [
    "This is a *lot* faster."
   ]
  },
  {
   "cell_type": "markdown",
   "metadata": {},
   "source": [
    "### Method 3 - Using NumPy\n",
    "\n",
    "We can also speed up code by using NumPy. Here, we compare two ways of numerically integrating $\\cos (x)$ over $2 \\pi$. First, we use a loop:"
   ]
  },
  {
   "cell_type": "code",
   "execution_count": 49,
   "metadata": {},
   "outputs": [
    {
     "name": "stdout",
     "output_type": "stream",
     "text": [
      "91.4 ms ± 1.02 ms per loop (mean ± std. dev. of 7 runs, 10 loops each)\n"
     ]
    }
   ],
   "source": [
    "# Using a for loop\n",
    "def int_cos_x_1():\n",
    "    cum_int = 0\n",
    "    for x in np.arange(0,2*np.pi,0.0001):\n",
    "        cum_int = cum_int + np.cos(x)\n",
    "    return(cum_int)\n",
    "\n",
    "%timeit int_cos_x_1()"
   ]
  },
  {
   "cell_type": "markdown",
   "metadata": {},
   "source": [
    "Second, we use NumPy's array operations, and remove the loop along with the definition of any temporary variables:"
   ]
  },
  {
   "cell_type": "code",
   "execution_count": 58,
   "metadata": {},
   "outputs": [
    {
     "name": "stdout",
     "output_type": "stream",
     "text": [
      "821 µs ± 85.3 µs per loop (mean ± std. dev. of 7 runs, 1000 loops each)\n"
     ]
    }
   ],
   "source": [
    "# Using NumPy instead of a for loop\n",
    "def int_cos_x_2():\n",
    "    return np.sum(np.cos(np.arange(0,2*np.pi,0.0001)))\n",
    "\n",
    "%timeit int_cos_x_2()"
   ]
  },
  {
   "cell_type": "markdown",
   "metadata": {},
   "source": [
    "By the way, both methods do give the same answer (pretty much):"
   ]
  },
  {
   "cell_type": "code",
   "execution_count": 57,
   "metadata": {},
   "outputs": [
    {
     "name": "stdout",
     "output_type": "stream",
     "text": [
      "0.14692820412840502\n",
      "0.14692820406344254\n"
     ]
    }
   ],
   "source": [
    "print(int_cos_x_1())\n",
    "print(int_cos_x_2())"
   ]
  },
  {
   "cell_type": "code",
   "execution_count": null,
   "metadata": {},
   "outputs": [],
   "source": []
  }
 ],
 "metadata": {
  "kernelspec": {
   "display_name": "Python 3",
   "language": "python",
   "name": "python3"
  },
  "language_info": {
   "codemirror_mode": {
    "name": "ipython",
    "version": 3
   },
   "file_extension": ".py",
   "mimetype": "text/x-python",
   "name": "python",
   "nbconvert_exporter": "python",
   "pygments_lexer": "ipython3",
   "version": "3.7.7"
  }
 },
 "nbformat": 4,
 "nbformat_minor": 4
}

{
 "cells": [
  {
   "cell_type": "markdown",
   "metadata": {},
   "source": [
    "<img src=\"./img/uomlogo.png\" align=\"left\"/><br><br>\n",
    "# Python Conventions\n",
    "  \n",
    "Hywel Owen  \n",
    "(c) University of Manchester  \n",
    "16th May 2020"
   ]
  },
  {
   "cell_type": "markdown",
   "metadata": {},
   "source": [
    "In this notebook we will look at *conventions* in Python. In other words, how to write code so that it works and so that it is easy for others to read and work with. Some of these conventions are built into the language, and others are not."
   ]
  },
  {
   "cell_type": "markdown",
   "metadata": {},
   "source": [
    "![](./img/bee.png)\n",
    "## Four Spaces"
   ]
  },
  {
   "cell_type": "markdown",
   "metadata": {},
   "source": [
    "You'll have seen that when we define a *function* in Python, we put a colon at the end of the function definition, press return, and then cursor moves over by 4 spaces for the function contents. This *indenting* happens automatically in Jupyter. By convention, Python functions *always* indent using 4 spaces. The first statement after the function that *isn't* indented is *not* part of the function definition.\n",
    "\n",
    "Let's see this in action with a simple function definition:"
   ]
  },
  {
   "cell_type": "code",
   "execution_count": 9,
   "metadata": {},
   "outputs": [
    {
     "data": {
      "text/plain": [
       "5"
      ]
     },
     "execution_count": 9,
     "metadata": {},
     "output_type": "execute_result"
    }
   ],
   "source": [
    "def addtwo(a,b):\n",
    "    total = a + b\n",
    "    return total\n",
    "someothervariable = 3 # This line is not part of the function definition.\n",
    "# Usually we would also put a line break in to make that clear.\n",
    "\n",
    "addtwo(2,3)"
   ]
  },
  {
   "cell_type": "markdown",
   "metadata": {},
   "source": [
    "If we don't indent by 4 spaces, then the function doesn't work. Jupyter is nice because it shows this as an error (red text) before we try to execute the code:"
   ]
  },
  {
   "cell_type": "code",
   "execution_count": 5,
   "metadata": {},
   "outputs": [
    {
     "ename": "IndentationError",
     "evalue": "unexpected indent (<ipython-input-5-29d73b88c8bf>, line 3)",
     "output_type": "error",
     "traceback": [
      "\u001b[0;36m  File \u001b[0;32m\"<ipython-input-5-29d73b88c8bf>\"\u001b[0;36m, line \u001b[0;32m3\u001b[0m\n\u001b[0;31m    return total\u001b[0m\n\u001b[0m    ^\u001b[0m\n\u001b[0;31mIndentationError\u001b[0m\u001b[0;31m:\u001b[0m unexpected indent\n"
     ]
    }
   ],
   "source": [
    "def addtwo(a,b):\n",
    " total = a + a\n",
    "    return total\n",
    "\n",
    "addtwo(2,3)"
   ]
  },
  {
   "cell_type": "markdown",
   "metadata": {},
   "source": [
    "*Actually*, we don't have to indent by 4 spaces. Python lets us indent by any amount we like, *as long as it's the same for all statements within the function*. Jupyter still gives us a warning, however:"
   ]
  },
  {
   "cell_type": "code",
   "execution_count": 7,
   "metadata": {},
   "outputs": [
    {
     "data": {
      "text/plain": [
       "5"
      ]
     },
     "execution_count": 7,
     "metadata": {},
     "output_type": "execute_result"
    }
   ],
   "source": [
    "def addtwo(a,b):\n",
    " total = a + b\n",
    " return total\n",
    "\n",
    "addtwo(2,3)"
   ]
  },
  {
   "cell_type": "markdown",
   "metadata": {},
   "source": [
    "We are also allowed to use **tab** in Python to indent. In Jupyter, pressing the tab key automatically enters the correct number of spaces (4). Try it here to fix this function definition:"
   ]
  },
  {
   "cell_type": "code",
   "execution_count": 10,
   "metadata": {},
   "outputs": [
    {
     "ename": "IndentationError",
     "evalue": "expected an indented block (<ipython-input-10-23fd86ae0d1b>, line 2)",
     "output_type": "error",
     "traceback": [
      "\u001b[0;36m  File \u001b[0;32m\"<ipython-input-10-23fd86ae0d1b>\"\u001b[0;36m, line \u001b[0;32m2\u001b[0m\n\u001b[0;31m    total = a + b\u001b[0m\n\u001b[0m        ^\u001b[0m\n\u001b[0;31mIndentationError\u001b[0m\u001b[0;31m:\u001b[0m expected an indented block\n"
     ]
    }
   ],
   "source": [
    "def addtwo(a,b):\n",
    "total = a + b\n",
    "return total\n",
    "\n",
    "addtwo(2,3)"
   ]
  },
  {
   "cell_type": "markdown",
   "metadata": {},
   "source": [
    "Jupyter helps us to write good code by automatically formatting the code for us. Jupyter is a type of **IDE** (Integrated Development Environment). An IDE allows us to edit and execute code within the same window. Many modern IDEs will automatically spot indenting errors.\n",
    "\n",
    "Some good IDEs are:  \n",
    "- VSCode [https://code.visualstudio.com/](https://code.visualstudio.com/)\n",
    "- PyCharm [https://www.jetbrains.com/pycharm/](https://www.jetbrains.com/pycharm/)\n",
    "- Spyder [https://www.spyder-ide.org/](https://www.spyder-ide.org/)\n",
    "\n",
    "Spyder is automatically included with Anaconda, so it's an easy one to start with. If you use a simple editor (like Notepad), then you can get into trouble. A very common kind of trouble is to have a tab on one line and 4 spaces on another - your code will look okay but it won't run. So use a proper Python editor!"
   ]
  },
  {
   "cell_type": "markdown",
   "metadata": {},
   "source": [
    "![](./img/bee.png)\n",
    "## Underscores"
   ]
  },
  {
   "cell_type": "markdown",
   "metadata": {},
   "source": [
    "You are allowed to use the underscore character **_** in variable names. For example:"
   ]
  },
  {
   "cell_type": "code",
   "execution_count": 11,
   "metadata": {},
   "outputs": [
    {
     "name": "stdout",
     "output_type": "stream",
     "text": [
      "4\n"
     ]
    }
   ],
   "source": [
    "my_variable = 4\n",
    "print(my_variable)"
   ]
  },
  {
   "cell_type": "markdown",
   "metadata": {},
   "source": [
    "Actually, you can use the underscore character all by itself:"
   ]
  },
  {
   "cell_type": "code",
   "execution_count": 12,
   "metadata": {},
   "outputs": [
    {
     "name": "stdout",
     "output_type": "stream",
     "text": [
      "5\n"
     ]
    }
   ],
   "source": [
    "_ = 5\n",
    "print(_)"
   ]
  },
  {
   "cell_type": "markdown",
   "metadata": {},
   "source": [
    "However, you *really* shouldn't do that as it's very confusing to read. Imagine this:"
   ]
  },
  {
   "cell_type": "code",
   "execution_count": 18,
   "metadata": {},
   "outputs": [
    {
     "name": "stdout",
     "output_type": "stream",
     "text": [
      "17\n"
     ]
    }
   ],
   "source": [
    "_ = 5\n",
    "__ = 7\n",
    "___ = 8\n",
    "print(_ + __ + _)"
   ]
  },
  {
   "cell_type": "markdown",
   "metadata": {},
   "source": [
    "This is *bad* practice!\n",
    "\n",
    "There are a couple of places with the underscore character is used. Firstly, we use it to tell someone that we are going to ignore some value returned by a function. For example:"
   ]
  },
  {
   "cell_type": "code",
   "execution_count": 22,
   "metadata": {},
   "outputs": [
    {
     "name": "stdout",
     "output_type": "stream",
     "text": [
      "7\n",
      "3\n",
      "3\n"
     ]
    }
   ],
   "source": [
    "def add_and_subtract(a,b):\n",
    "    # This function returns a + b and a - b\n",
    "    return a+b, a-b\n",
    "\n",
    "# Calculate and print both the total and difference\n",
    "total, difference = add_and_subtract(5,2)\n",
    "print(total)\n",
    "print(difference)\n",
    "\n",
    "# Calculate and print just the difference\n",
    "_, difference = add_and_subtract(5,2)\n",
    "print(difference)"
   ]
  },
  {
   "cell_type": "markdown",
   "metadata": {},
   "source": [
    "We *could* have used the underscore variable and printed it, but the convention is that we ignore it."
   ]
  },
  {
   "cell_type": "markdown",
   "metadata": {},
   "source": [
    "### Single leading underscore \n",
    "A single leading underscore in a variable name is a *hint* that this variable is for internal use within the function or class where it appears. We can still access it though:"
   ]
  },
  {
   "cell_type": "code",
   "execution_count": 1,
   "metadata": {},
   "outputs": [
    {
     "name": "stdout",
     "output_type": "stream",
     "text": [
      "['Hydrogen', 'Oxygen']\n",
      "Covalent\n"
     ]
    }
   ],
   "source": [
    "class WaterMolecule:\n",
    "    def __init__(self):\n",
    "        self.atoms = ['Hydrogen', 'Oxygen']\n",
    "        self._bondtype = 'Covalent'\n",
    "        \n",
    "molecule1 = WaterMolecule()\n",
    "print(molecule1.atoms)\n",
    "print(molecule1._bondtype)"
   ]
  },
  {
   "cell_type": "code",
   "execution_count": null,
   "metadata": {},
   "outputs": [],
   "source": []
  }
 ],
 "metadata": {
  "kernelspec": {
   "display_name": "Python 3",
   "language": "python",
   "name": "python3"
  },
  "language_info": {
   "codemirror_mode": {
    "name": "ipython",
    "version": 3
   },
   "file_extension": ".py",
   "mimetype": "text/x-python",
   "name": "python",
   "nbconvert_exporter": "python",
   "pygments_lexer": "ipython3",
   "version": "3.7.7"
  }
 },
 "nbformat": 4,
 "nbformat_minor": 4
}

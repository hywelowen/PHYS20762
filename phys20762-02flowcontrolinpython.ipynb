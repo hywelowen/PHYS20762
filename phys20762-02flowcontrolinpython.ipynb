{
 "cells": [
  {
   "cell_type": "markdown",
   "metadata": {},
   "source": [
    "<img src=\"./img/uomlogo.png\" align=\"left\"/><br><br>\n",
    "# Flow Control in Python\n",
    "  \n",
    "Hywel Owen  \n",
    "(c) University of Manchester  \n",
    "4th April 2020"
   ]
  },
  {
   "cell_type": "markdown",
   "metadata": {},
   "source": [
    "![](./img/bee.png)\n",
    "## Choosing What to Do in Python"
   ]
  },
  {
   "cell_type": "markdown",
   "metadata": {},
   "source": [
    "A program that just consisted of a set of instructions, each executed one after the other, would be quite limited. We need our programs to be able to choose whether or not to do some activities. The most basic of these is the **if** statement, which is a kind of **conditional** statement.\n",
    "\n",
    "We also need a way to carry out repetitive tasks more easily. This is where the idea of **loops** comes along. The most common kind of loop statement is the **for** loop.\n",
    "\n",
    "In this notebook we will examine both concepts."
   ]
  },
  {
   "cell_type": "markdown",
   "metadata": {},
   "source": [
    "![](./img/bee.png)\n",
    "## Conditional Statements\n",
    "\n",
    "A conditional statement is one that allows us to decide whether or not to execute another statement. For example, let's create an **if** statement that prints out if a number is greater than 10:"
   ]
  },
  {
   "cell_type": "code",
   "execution_count": 3,
   "metadata": {},
   "outputs": [],
   "source": [
    "# Try changing this number, and then running the cell again.\n",
    "x = 9\n",
    "\n",
    "if x > 10:\n",
    "    print('x is greater than 10')"
   ]
  },
  {
   "cell_type": "markdown",
   "metadata": {},
   "source": [
    "Note that the the statements we want to be executed in the case that $x>10$ are *indented*. This is done automatically when you type code into a Python editor. The convention is that the indent is always *4 spaces*. Python uses this convention for *all* of its code.\n",
    "\n",
    "This **if** statement is already useful (nothing is printed, because in this case $x<10$), but perhaps we want to print something different if $x$ is less than 10. We can do this too:"
   ]
  },
  {
   "cell_type": "code",
   "execution_count": 5,
   "metadata": {},
   "outputs": [
    {
     "name": "stdout",
     "output_type": "stream",
     "text": [
      "x is less than 10\n"
     ]
    }
   ],
   "source": [
    "# Try changing this number, and then running the cell again.\n",
    "x = 10\n",
    "\n",
    "if x > 10:\n",
    "    print('x is greater than 10')\n",
    "else:\n",
    "    print('x is less than 10')\n",
    "    "
   ]
  },
  {
   "cell_type": "markdown",
   "metadata": {},
   "source": [
    "You may have spotted that actually this command is incorrect. Setting $x=10$ gives an incorrect answer. We can handle this by using the following statement:"
   ]
  },
  {
   "cell_type": "code",
   "execution_count": 6,
   "metadata": {},
   "outputs": [
    {
     "name": "stdout",
     "output_type": "stream",
     "text": [
      "x is equal to 10\n"
     ]
    }
   ],
   "source": [
    "# Try changing this number, and then running the cell again.\n",
    "x = 10\n",
    "\n",
    "if x > 10:\n",
    "    print('x is greater than 10')\n",
    "elif x < 10:\n",
    "    print('x is less than 10')\n",
    "else:\n",
    "    print('x is equal to 10')"
   ]
  },
  {
   "cell_type": "markdown",
   "metadata": {},
   "source": [
    "**elif** ('else if') allows us to test one condition after another."
   ]
  },
  {
   "cell_type": "code",
   "execution_count": 3,
   "metadata": {},
   "outputs": [
    {
     "name": "stdout",
     "output_type": "stream",
     "text": [
      "x is equal to 10\n"
     ]
    }
   ],
   "source": [
    "# Try changing this number, and then running the cell again.\n",
    "x = 10\n",
    "\n",
    "if x > 10:\n",
    "    print('x is greater than 10')\n",
    "elif x < 10:\n",
    "    print('x is less than 10')\n",
    "elif x == 10:\n",
    "    print('x is equal to 10')\n",
    "else:\n",
    "    print('Something odd happened.')"
   ]
  },
  {
   "cell_type": "code",
   "execution_count": null,
   "metadata": {},
   "outputs": [],
   "source": []
  },
  {
   "cell_type": "markdown",
   "metadata": {},
   "source": [
    "![](./img/bee.png)\n",
    "## Operators and Expressions"
   ]
  },
  {
   "cell_type": "markdown",
   "metadata": {},
   "source": [
    "We can do quite sophisticated calculations using a single line of code. Here are some examples - try **editing** them to see what you can calculate."
   ]
  },
  {
   "cell_type": "code",
   "execution_count": 8,
   "metadata": {},
   "outputs": [
    {
     "data": {
      "text/plain": [
       "4"
      ]
     },
     "execution_count": 8,
     "metadata": {},
     "output_type": "execute_result"
    }
   ],
   "source": [
    "2 + 2"
   ]
  },
  {
   "cell_type": "code",
   "execution_count": 9,
   "metadata": {},
   "outputs": [
    {
     "data": {
      "text/plain": [
       "32"
      ]
     },
     "execution_count": 9,
     "metadata": {},
     "output_type": "execute_result"
    }
   ],
   "source": [
    "45 - 13"
   ]
  },
  {
   "cell_type": "code",
   "execution_count": 10,
   "metadata": {},
   "outputs": [
    {
     "data": {
      "text/plain": [
       "8286356"
      ]
     },
     "execution_count": 10,
     "metadata": {},
     "output_type": "execute_result"
    }
   ],
   "source": [
    "13 * 637412"
   ]
  },
  {
   "cell_type": "code",
   "execution_count": 11,
   "metadata": {},
   "outputs": [
    {
     "data": {
      "text/plain": [
       "28.125"
      ]
     },
     "execution_count": 11,
     "metadata": {},
     "output_type": "execute_result"
    }
   ],
   "source": [
    "900/32"
   ]
  },
  {
   "cell_type": "code",
   "execution_count": 12,
   "metadata": {},
   "outputs": [
    {
     "data": {
      "text/plain": [
       "81"
      ]
     },
     "execution_count": 12,
     "metadata": {},
     "output_type": "execute_result"
    }
   ],
   "source": [
    "3**4"
   ]
  },
  {
   "cell_type": "markdown",
   "metadata": {},
   "source": [
    "The last of these is the 'power' (exponentiation) operator.  \n",
    "  \n",
    "We can use brackets to **enforce** an **order** of execution. Compare the following two **expressions** (as they called in programming):"
   ]
  },
  {
   "cell_type": "code",
   "execution_count": 15,
   "metadata": {},
   "outputs": [
    {
     "data": {
      "text/plain": [
       "14"
      ]
     },
     "execution_count": 15,
     "metadata": {},
     "output_type": "execute_result"
    }
   ],
   "source": [
    "2 + 3 * 4"
   ]
  },
  {
   "cell_type": "code",
   "execution_count": 16,
   "metadata": {},
   "outputs": [
    {
     "data": {
      "text/plain": [
       "20"
      ]
     },
     "execution_count": 16,
     "metadata": {},
     "output_type": "execute_result"
    }
   ],
   "source": [
    "(2 + 3) * 4"
   ]
  },
  {
   "cell_type": "markdown",
   "metadata": {},
   "source": [
    "Without the brackets, the multiplication **operator** ('times') was used first before the addition ('plus') operator - watch out for this as it's a common reason why an expression might not execute the way you were expecting. We can use brackets to tell the interpreter how to combine the **values** 2, 3 and 4.  \n",
    "\n",
    "The **order of evaluation** is the same in most programming languages, and follows the **PEMDAS** rule - look it up on the Internet.\n",
    "  \n",
    "Note that we put spaces between the values and operators in our expression. We are not *required* to do this in Python, but this *style* is encouraged. It is called being *Pythonic*. If you write your code the same way as others do, you will annoy them a bit less when they try to read and fix your errors."
   ]
  },
  {
   "cell_type": "markdown",
   "metadata": {},
   "source": [
    "We've seen that we can write expressions using numerical values, but actually there are two basic types of numerical values - **integers** (whole numbers) and **floating-point numbers** ('floats'). Python lets you work interchangeably with them, but you should know they exist because sometimes you can get into trouble if you don't know which one you have. We can find out what kind of value we have by using **type()**, which is an example of a **function** to which we **pass a value**. The value we pass to the function is called the **argument**. Let's try it on two values:"
   ]
  },
  {
   "cell_type": "code",
   "execution_count": 19,
   "metadata": {},
   "outputs": [
    {
     "data": {
      "text/plain": [
       "int"
      ]
     },
     "execution_count": 19,
     "metadata": {},
     "output_type": "execute_result"
    }
   ],
   "source": [
    "type(8)"
   ]
  },
  {
   "cell_type": "code",
   "execution_count": 21,
   "metadata": {},
   "outputs": [
    {
     "data": {
      "text/plain": [
       "float"
      ]
     },
     "execution_count": 21,
     "metadata": {},
     "output_type": "execute_result"
    }
   ],
   "source": [
    "type(9.2)"
   ]
  },
  {
   "cell_type": "markdown",
   "metadata": {},
   "source": [
    "We see that '8' is interpreted as an **int** (integer) whilst  '9.2' is interpreted as a **float**. Here's another couple of examples:"
   ]
  },
  {
   "cell_type": "code",
   "execution_count": 23,
   "metadata": {},
   "outputs": [
    {
     "data": {
      "text/plain": [
       "float"
      ]
     },
     "execution_count": 23,
     "metadata": {},
     "output_type": "execute_result"
    }
   ],
   "source": [
    "type (8.)"
   ]
  },
  {
   "cell_type": "code",
   "execution_count": 22,
   "metadata": {},
   "outputs": [
    {
     "data": {
      "text/plain": [
       "float"
      ]
     },
     "execution_count": 22,
     "metadata": {},
     "output_type": "execute_result"
    }
   ],
   "source": [
    "type (8.0)"
   ]
  },
  {
   "cell_type": "markdown",
   "metadata": {},
   "source": [
    "We see that we can tell the interpreter to regard (really, **define**) a value as a float either by putting a decimal point at the end, or by adding '.0'. I prefer the second way, as it's clearer and leads to less mistakes when writing code."
   ]
  },
  {
   "cell_type": "markdown",
   "metadata": {},
   "source": [
    "Another basic value **type** is the **string**:"
   ]
  },
  {
   "cell_type": "code",
   "execution_count": 24,
   "metadata": {},
   "outputs": [
    {
     "data": {
      "text/plain": [
       "str"
      ]
     },
     "execution_count": 24,
     "metadata": {},
     "output_type": "execute_result"
    }
   ],
   "source": [
    "type('The quick brown fox')"
   ]
  },
  {
   "cell_type": "code",
   "execution_count": 25,
   "metadata": {},
   "outputs": [
    {
     "data": {
      "text/plain": [
       "str"
      ]
     },
     "execution_count": 25,
     "metadata": {},
     "output_type": "execute_result"
    }
   ],
   "source": [
    "type(\"jumped over the lazy dog\")"
   ]
  },
  {
   "cell_type": "markdown",
   "metadata": {},
   "source": [
    "We can tell Python that our expression is a string (**str**) using either single quote marks or double quote marks. Python doesn't care as long as you start and end your string with the same kind of marks."
   ]
  },
  {
   "cell_type": "markdown",
   "metadata": {},
   "source": [
    "It might seem odd at first, but we can add and multiply strings; this turns out to be very useful. We see that the operators + and * work differently on strings and numbers, but make intuitive sense. "
   ]
  },
  {
   "cell_type": "code",
   "execution_count": 27,
   "metadata": {},
   "outputs": [
    {
     "data": {
      "text/plain": [
       "'sausagebacon'"
      ]
     },
     "execution_count": 27,
     "metadata": {},
     "output_type": "execute_result"
    }
   ],
   "source": [
    "'sausage' + 'bacon'"
   ]
  },
  {
   "cell_type": "code",
   "execution_count": 28,
   "metadata": {},
   "outputs": [
    {
     "data": {
      "text/plain": [
       "'sausagesausagesausage'"
      ]
     },
     "execution_count": 28,
     "metadata": {},
     "output_type": "execute_result"
    }
   ],
   "source": [
    "3*'sausage'"
   ]
  },
  {
   "cell_type": "markdown",
   "metadata": {},
   "source": [
    "However, the subtraction operator - does not work with strings."
   ]
  },
  {
   "cell_type": "code",
   "execution_count": 29,
   "metadata": {},
   "outputs": [
    {
     "ename": "TypeError",
     "evalue": "unsupported operand type(s) for -: 'str' and 'str'",
     "output_type": "error",
     "traceback": [
      "\u001b[0;31m---------------------------------------------------------------------------\u001b[0m",
      "\u001b[0;31mTypeError\u001b[0m                                 Traceback (most recent call last)",
      "\u001b[0;32m<ipython-input-29-828ab8c5a7b7>\u001b[0m in \u001b[0;36m<module>\u001b[0;34m\u001b[0m\n\u001b[0;32m----> 1\u001b[0;31m \u001b[0;34m'fullenglishbreakfast'\u001b[0m \u001b[0;34m-\u001b[0m \u001b[0;34m'friedegg'\u001b[0m\u001b[0;34m\u001b[0m\u001b[0;34m\u001b[0m\u001b[0m\n\u001b[0m",
      "\u001b[0;31mTypeError\u001b[0m: unsupported operand type(s) for -: 'str' and 'str'"
     ]
    }
   ],
   "source": [
    "'fullenglishbreakfast' - 'friedegg'"
   ]
  },
  {
   "cell_type": "markdown",
   "metadata": {},
   "source": [
    "![](./img/bee.png)\n",
    "## Variables"
   ]
  },
  {
   "cell_type": "markdown",
   "metadata": {},
   "source": [
    "The power of programming languages lies in two main attributes that all possess:\n",
    "\n",
    "- Variables\n",
    "- Functions\n",
    "\n",
    "A **variable** is a named value (or set of values) that is stored, and then available for use in multiple locations. A **function** is a collection of **statements** that perform some specified action.  \n",
    "  \n",
    "Variables need not be just one value; they may also be **lists** (an list is a sequence of values) and also more complicated **objects** that may also have **behaviours**. We'll keep things simple and initially think of variables as a named item that stores a value. Let's define and use some. We'll also here start using **comments** which are marked with a hash symbol # and which are not executed by the Python interpreter."
   ]
  },
  {
   "cell_type": "code",
   "execution_count": 31,
   "metadata": {},
   "outputs": [
    {
     "name": "stdout",
     "output_type": "stream",
     "text": [
      "5\n",
      "5\n",
      "5\n"
     ]
    }
   ],
   "source": [
    "# Define some variables and add them\n",
    "a = 3 # Define first variable a\n",
    "b = 2 # Define second variable b\n",
    "# Add them together and show the answer\n",
    "print(a+b)\n",
    "c = a + b # Define a new variable c\n",
    "print(c) # Print it\n",
    "a = 4 # Assign a new value to a (old value is overwritten)\n",
    "print(c) # The value of c is not changed\n",
    "# Note: commenting is good, but we've probably overdone it here.\n",
    "# Good Python practice is to put comments of code before the line of code they refer to."
   ]
  },
  {
   "cell_type": "markdown",
   "metadata": {},
   "source": [
    "We learn a lot from the above code. Firstly, note that the code executes in sequence from top to bottom; this is true in nearly all languages. Secondly, when variables are **defined** they are then independent of the variables they came from; this is also true in nearly all languages."
   ]
  },
  {
   "cell_type": "markdown",
   "metadata": {},
   "source": [
    "We can also define floating point and string variables:"
   ]
  },
  {
   "cell_type": "code",
   "execution_count": 38,
   "metadata": {},
   "outputs": [
    {
     "name": "stdout",
     "output_type": "stream",
     "text": [
      "hello\n",
      "5.3\n"
     ]
    }
   ],
   "source": [
    "d = 'hello'\n",
    "e = 5.3\n",
    "print (d)\n",
    "print (e)"
   ]
  },
  {
   "cell_type": "markdown",
   "metadata": {},
   "source": [
    "We can add integers to floats, but not integers/floats to strings (we get an error):"
   ]
  },
  {
   "cell_type": "code",
   "execution_count": 40,
   "metadata": {},
   "outputs": [
    {
     "name": "stdout",
     "output_type": "stream",
     "text": [
      "9.3\n"
     ]
    },
    {
     "ename": "TypeError",
     "evalue": "can only concatenate str (not \"float\") to str",
     "output_type": "error",
     "traceback": [
      "\u001b[0;31m---------------------------------------------------------------------------\u001b[0m",
      "\u001b[0;31mTypeError\u001b[0m                                 Traceback (most recent call last)",
      "\u001b[0;32m<ipython-input-40-89e4eb72e695>\u001b[0m in \u001b[0;36m<module>\u001b[0;34m\u001b[0m\n\u001b[1;32m      1\u001b[0m \u001b[0mprint\u001b[0m \u001b[0;34m(\u001b[0m\u001b[0ma\u001b[0m \u001b[0;34m+\u001b[0m \u001b[0me\u001b[0m\u001b[0;34m)\u001b[0m\u001b[0;34m\u001b[0m\u001b[0;34m\u001b[0m\u001b[0m\n\u001b[0;32m----> 2\u001b[0;31m \u001b[0mprint\u001b[0m \u001b[0;34m(\u001b[0m\u001b[0md\u001b[0m \u001b[0;34m+\u001b[0m \u001b[0me\u001b[0m\u001b[0;34m)\u001b[0m\u001b[0;34m\u001b[0m\u001b[0;34m\u001b[0m\u001b[0m\n\u001b[0m",
      "\u001b[0;31mTypeError\u001b[0m: can only concatenate str (not \"float\") to str"
     ]
    }
   ],
   "source": [
    "print (a + e)\n",
    "print (d + e)"
   ]
  },
  {
   "cell_type": "markdown",
   "metadata": {},
   "source": [
    "However, we can convert one **type** to another and then combine values. Remember to be careful with the **int()** function:"
   ]
  },
  {
   "cell_type": "code",
   "execution_count": 42,
   "metadata": {},
   "outputs": [
    {
     "name": "stdout",
     "output_type": "stream",
     "text": [
      "hello5.3\n",
      "9\n"
     ]
    }
   ],
   "source": [
    "print (d + str(e))\n",
    "print (a + int(e))"
   ]
  },
  {
   "cell_type": "markdown",
   "metadata": {},
   "source": [
    "It's worth pointing out a very important fact about Python. You can only have *one statement per line*. You can put a comment after that statement though. (other languages can be different)"
   ]
  },
  {
   "cell_type": "markdown",
   "metadata": {},
   "source": [
    "![](./img/bee.png)\n",
    "## Lists"
   ]
  },
  {
   "cell_type": "markdown",
   "metadata": {},
   "source": [
    "There are a number of ways in which we can store *sets* of values in Python. Mostly, we will want to define a **list** and only store in that list values which are all of the same **type**. Most other languages have this sort of **data structure** (a set of values of the same type) and it is called an **array**; Python programmers often therefore also use the word array loosely too.  \n",
    "\n",
    "(Note: later on we will introduce a formal definition of the difference between **lists** and **arrays**, but we don't need to worry about it just yet.)\n",
    "  \n",
    "Python has the advantage that we can make a list with any kind of **member**, anywhere we like in the list. Let's make some lists, which we do with square brackets and commas:"
   ]
  },
  {
   "cell_type": "code",
   "execution_count": 43,
   "metadata": {},
   "outputs": [
    {
     "name": "stdout",
     "output_type": "stream",
     "text": [
      "[1, 2, 3, 5, 6]\n"
     ]
    }
   ],
   "source": [
    "f = [1, 2, 3, 5, 6] # Define a list\n",
    "print(f) # Print the list's contents"
   ]
  },
  {
   "cell_type": "code",
   "execution_count": 2,
   "metadata": {},
   "outputs": [
    {
     "name": "stdout",
     "output_type": "stream",
     "text": [
      "[1, 4, 7, 8, 'cheese', <class 'type'>]\n"
     ]
    }
   ],
   "source": [
    "a = 4\n",
    "f = 8\n",
    "g = [1, a, 3+4, f, 'cheese', type] \n",
    "# A list can be defined with any contents,\n",
    "# including expressions, variables, other lists and function names\n",
    "print(g) # Print the list's contents"
   ]
  },
  {
   "cell_type": "markdown",
   "metadata": {},
   "source": [
    "It turns out that the ability to create lists of different types is hugely useful and a great advantage of Python over other languages. It's worth pointint out that behind the scenes (inside the interpreter) a lot of work goes on to allow this kind of thing to happen with so little work by the user. It allows very **compact** code, i.e. you the user has to do less work to get an answer out. The sacrifice can sometimes be that the code runs slower than it might on other languages."
   ]
  },
  {
   "cell_type": "markdown",
   "metadata": {},
   "source": [
    "![](img/bee.png)\n",
    "## Functions"
   ]
  },
  {
   "cell_type": "markdown",
   "metadata": {},
   "source": [
    "The last key **language construct** that we will define in this section is the **function**. A function is a named activity that can **take an argument**, or take a list of arguments. Let's explain this using an example:"
   ]
  },
  {
   "cell_type": "code",
   "execution_count": 49,
   "metadata": {},
   "outputs": [
    {
     "name": "stdout",
     "output_type": "stream",
     "text": [
      "20\n"
     ]
    }
   ],
   "source": [
    "def my_function(x):\n",
    "    \"\"\"\n",
    "    Python functions often have descriptions at the start, and \n",
    "    often use triple-quotation marks to denote multi-line comments.\n",
    "    \"\"\"\n",
    "    # We can define some intermediate value y\n",
    "    y = x * x\n",
    "    # We nearly always return a value, which is the result of the function\n",
    "    return x + y\n",
    "\n",
    "# Test the function\n",
    "z = my_function(4)\n",
    "print (z)"
   ]
  },
  {
   "cell_type": "markdown",
   "metadata": {},
   "source": [
    "Out function **returns** $x^2 + x$ for a given argument $x$. A very, very important thing to note is that any variables defined inside the function are only visible within that function:"
   ]
  },
  {
   "cell_type": "code",
   "execution_count": 50,
   "metadata": {},
   "outputs": [
    {
     "ename": "NameError",
     "evalue": "name 'y' is not defined",
     "output_type": "error",
     "traceback": [
      "\u001b[0;31m---------------------------------------------------------------------------\u001b[0m",
      "\u001b[0;31mNameError\u001b[0m                                 Traceback (most recent call last)",
      "\u001b[0;32m<ipython-input-50-d9183e048de3>\u001b[0m in \u001b[0;36m<module>\u001b[0;34m\u001b[0m\n\u001b[0;32m----> 1\u001b[0;31m \u001b[0mprint\u001b[0m\u001b[0;34m(\u001b[0m\u001b[0my\u001b[0m\u001b[0;34m)\u001b[0m\u001b[0;34m\u001b[0m\u001b[0;34m\u001b[0m\u001b[0m\n\u001b[0m",
      "\u001b[0;31mNameError\u001b[0m: name 'y' is not defined"
     ]
    }
   ],
   "source": [
    "print(y)"
   ]
  },
  {
   "cell_type": "markdown",
   "metadata": {},
   "source": [
    "The variable y is said to only exist within the **local scope** of the function **my_function()**. This allows us to separate pieces of code from each other so that their internal variables don't interfere - this is a feature of nearly all programming languages and is what allows large, complex programs to be successfully written. \n",
    "  \n",
    "It is possible to define variables which are available everywhere and to all functions and statements - this is known as having **global scope**.  \n",
    "  \n",
    "We can test that local variables are not available by defining two functions:"
   ]
  },
  {
   "cell_type": "code",
   "execution_count": 53,
   "metadata": {},
   "outputs": [
    {
     "name": "stdout",
     "output_type": "stream",
     "text": [
      "9\n"
     ]
    },
    {
     "ename": "NameError",
     "evalue": "name 'y' is not defined",
     "output_type": "error",
     "traceback": [
      "\u001b[0;31m---------------------------------------------------------------------------\u001b[0m",
      "\u001b[0;31mNameError\u001b[0m                                 Traceback (most recent call last)",
      "\u001b[0;32m<ipython-input-53-0f30a007e966>\u001b[0m in \u001b[0;36m<module>\u001b[0;34m\u001b[0m\n\u001b[1;32m      8\u001b[0m \u001b[0;34m\u001b[0m\u001b[0m\n\u001b[1;32m      9\u001b[0m \u001b[0mprint\u001b[0m\u001b[0;34m(\u001b[0m\u001b[0mfunc_a\u001b[0m\u001b[0;34m(\u001b[0m\u001b[0;36m3\u001b[0m\u001b[0;34m)\u001b[0m\u001b[0;34m)\u001b[0m\u001b[0;34m\u001b[0m\u001b[0;34m\u001b[0m\u001b[0m\n\u001b[0;32m---> 10\u001b[0;31m \u001b[0mprint\u001b[0m\u001b[0;34m(\u001b[0m\u001b[0mfunc_b\u001b[0m\u001b[0;34m(\u001b[0m\u001b[0;36m4\u001b[0m\u001b[0;34m)\u001b[0m\u001b[0;34m)\u001b[0m\u001b[0;34m\u001b[0m\u001b[0;34m\u001b[0m\u001b[0m\n\u001b[0m",
      "\u001b[0;32m<ipython-input-53-0f30a007e966>\u001b[0m in \u001b[0;36mfunc_b\u001b[0;34m(z)\u001b[0m\n\u001b[1;32m      4\u001b[0m \u001b[0;34m\u001b[0m\u001b[0m\n\u001b[1;32m      5\u001b[0m \u001b[0;32mdef\u001b[0m \u001b[0mfunc_b\u001b[0m\u001b[0;34m(\u001b[0m\u001b[0mz\u001b[0m\u001b[0;34m)\u001b[0m\u001b[0;34m:\u001b[0m\u001b[0;34m\u001b[0m\u001b[0;34m\u001b[0m\u001b[0m\n\u001b[0;32m----> 6\u001b[0;31m     \u001b[0mprint\u001b[0m\u001b[0;34m(\u001b[0m\u001b[0my\u001b[0m\u001b[0;34m)\u001b[0m\u001b[0;34m\u001b[0m\u001b[0;34m\u001b[0m\u001b[0m\n\u001b[0m\u001b[1;32m      7\u001b[0m     \u001b[0;32mreturn\u001b[0m \u001b[0;36m2\u001b[0m\u001b[0;34m*\u001b[0m\u001b[0mz\u001b[0m\u001b[0;34m\u001b[0m\u001b[0;34m\u001b[0m\u001b[0m\n\u001b[1;32m      8\u001b[0m \u001b[0;34m\u001b[0m\u001b[0m\n",
      "\u001b[0;31mNameError\u001b[0m: name 'y' is not defined"
     ]
    }
   ],
   "source": [
    "def func_a(x):\n",
    "    y = x\n",
    "    return x*y\n",
    "\n",
    "def func_b(z):\n",
    "    print(y)\n",
    "    return 2*z\n",
    "\n",
    "print(func_a(3))\n",
    "print(func_b(4))  "
   ]
  },
  {
   "cell_type": "markdown",
   "metadata": {},
   "source": [
    "We get an error because y is defined inside func_a and only available there. In fact, once a particular **call** of func_a is complete, the local variable y is deleted. y is therefore a **temporary** variable."
   ]
  },
  {
   "cell_type": "markdown",
   "metadata": {},
   "source": [
    "It's perfectly possible for a function in Python to take a list as an argument, or indeed to return a list. We can also define functions with multiple arguments. Let's define another function to see this in action:"
   ]
  },
  {
   "cell_type": "code",
   "execution_count": 65,
   "metadata": {},
   "outputs": [
    {
     "name": "stdout",
     "output_type": "stream",
     "text": [
      "2\n",
      "[1, 2, 3, 1, 2, 3]\n",
      "[4, 5, 6, 4, 5, 6, 4, 5, 6, 4, 5, 6, 4, 5, 6]\n"
     ]
    }
   ],
   "source": [
    "def func_c(arg1, arg2):\n",
    "    return arg1 * arg2\n",
    "\n",
    "print( func_c(1,2) )\n",
    "print( func_c( [1,2,3] , 2) )\n",
    "print( func_c( 5 , [4,5,6]) )"
   ]
  },
  {
   "cell_type": "markdown",
   "metadata": {},
   "source": [
    "![](./img/bee.png)\n",
    "## Loops"
   ]
  },
  {
   "cell_type": "markdown",
   "metadata": {},
   "source": [
    "Being able to carry out similar operations many times is a fundamental activity that is desired in a programming language. This is done using a *loop*. Let's look at few simple examples which illustrate how they work. \n",
    "\n",
    "The first is the **while** loop:"
   ]
  },
  {
   "cell_type": "code",
   "execution_count": 4,
   "metadata": {},
   "outputs": [
    {
     "name": "stdout",
     "output_type": "stream",
     "text": [
      "0\n",
      "1\n",
      "2\n",
      "3\n",
      "4\n",
      "5\n",
      "6\n",
      "7\n",
      "8\n",
      "9\n"
     ]
    }
   ],
   "source": [
    "x = 0\n",
    "while x < 10:\n",
    "    print(x)\n",
    "    x += 1"
   ]
  },
  {
   "cell_type": "markdown",
   "metadata": {},
   "source": [
    "This so-called *loop construction* is similar to how loops are written in many other programming languages. However, it does require us to use a variable **x**. A better way, and one which is available in most other languages as well, is the **for** loop:"
   ]
  },
  {
   "cell_type": "code",
   "execution_count": 5,
   "metadata": {},
   "outputs": [
    {
     "name": "stdout",
     "output_type": "stream",
     "text": [
      "0\n",
      "1\n",
      "2\n",
      "3\n",
      "4\n",
      "5\n",
      "6\n",
      "7\n",
      "8\n",
      "9\n"
     ]
    }
   ],
   "source": [
    "for x in range(10):\n",
    "    print(x)"
   ]
  },
  {
   "cell_type": "markdown",
   "metadata": {},
   "source": [
    "This uses the *sequence* function **range()**, with a single argument produces numbers from **0** to the value of the argument, in this case **10**. Notice that Python starts its indexing from **0**. Some other languages do this whilst other languages start their indexing from **1**. Watch out for this!  \n",
    "\n",
    "We can make the range anything we like:"
   ]
  },
  {
   "cell_type": "code",
   "execution_count": 6,
   "metadata": {},
   "outputs": [
    {
     "name": "stdout",
     "output_type": "stream",
     "text": [
      "5\n",
      "6\n",
      "7\n",
      "8\n",
      "9\n"
     ]
    }
   ],
   "source": [
    "for x in range(5,10):\n",
    "    print(x)"
   ]
  },
  {
   "cell_type": "code",
   "execution_count": 7,
   "metadata": {},
   "outputs": [
    {
     "name": "stdout",
     "output_type": "stream",
     "text": [
      "1\n",
      "4\n",
      "7\n"
     ]
    }
   ],
   "source": [
    "for x in range(1,10,3):\n",
    "    print(x)"
   ]
  },
  {
   "cell_type": "markdown",
   "metadata": {},
   "source": [
    "We can't use non-integer values though, since **range()** can only deal with integers. We'll get around that later using **numpy**."
   ]
  },
  {
   "cell_type": "code",
   "execution_count": 8,
   "metadata": {},
   "outputs": [
    {
     "ename": "TypeError",
     "evalue": "'float' object cannot be interpreted as an integer",
     "output_type": "error",
     "traceback": [
      "\u001b[0;31m---------------------------------------------------------------------------\u001b[0m",
      "\u001b[0;31mTypeError\u001b[0m                                 Traceback (most recent call last)",
      "\u001b[0;32m<ipython-input-8-4d6a7c2f934d>\u001b[0m in \u001b[0;36m<module>\u001b[0;34m\u001b[0m\n\u001b[0;32m----> 1\u001b[0;31m \u001b[0;32mfor\u001b[0m \u001b[0mx\u001b[0m \u001b[0;32min\u001b[0m \u001b[0mrange\u001b[0m\u001b[0;34m(\u001b[0m\u001b[0;36m1\u001b[0m\u001b[0;34m,\u001b[0m\u001b[0;36m10\u001b[0m\u001b[0;34m,\u001b[0m\u001b[0;36m0.1\u001b[0m\u001b[0;34m)\u001b[0m\u001b[0;34m:\u001b[0m\u001b[0;34m\u001b[0m\u001b[0;34m\u001b[0m\u001b[0m\n\u001b[0m\u001b[1;32m      2\u001b[0m     \u001b[0mprint\u001b[0m\u001b[0;34m(\u001b[0m\u001b[0mx\u001b[0m\u001b[0;34m)\u001b[0m\u001b[0;34m\u001b[0m\u001b[0;34m\u001b[0m\u001b[0m\n",
      "\u001b[0;31mTypeError\u001b[0m: 'float' object cannot be interpreted as an integer"
     ]
    }
   ],
   "source": [
    "for x in range(1,10,0.1):\n",
    "    print(x)"
   ]
  },
  {
   "cell_type": "markdown",
   "metadata": {},
   "source": [
    "However, an unusual feature of Python is that you can use any set of numbers you like in the **for** loop. For example, you can use an array:"
   ]
  },
  {
   "cell_type": "code",
   "execution_count": 9,
   "metadata": {},
   "outputs": [
    {
     "name": "stdout",
     "output_type": "stream",
     "text": [
      "1\n",
      "5\n",
      "4\n",
      "3\n",
      "7\n",
      "6\n",
      "3\n"
     ]
    }
   ],
   "source": [
    "x_values = [1,5,4,3,7,6,3]\n",
    "for x in x_values:\n",
    "    print(x)"
   ]
  },
  {
   "cell_type": "markdown",
   "metadata": {},
   "source": [
    "Actually, you can use anything you like in a **for** loop; **for** loops *iterate* over each member of a sequence:"
   ]
  },
  {
   "cell_type": "code",
   "execution_count": 10,
   "metadata": {},
   "outputs": [
    {
     "name": "stdout",
     "output_type": "stream",
     "text": [
      "Mum\n",
      "Dad\n",
      "Son\n",
      "Daughter\n"
     ]
    }
   ],
   "source": [
    "family = [\"Mum\", \"Dad\", \"Son\", \"Daughter\"]\n",
    "for member in family:\n",
    "    print(member)"
   ]
  },
  {
   "cell_type": "markdown",
   "metadata": {},
   "source": [
    "If you come from other programming languages, you may be tempted to do something like this:"
   ]
  },
  {
   "cell_type": "code",
   "execution_count": 15,
   "metadata": {},
   "outputs": [
    {
     "name": "stdout",
     "output_type": "stream",
     "text": [
      "100\n",
      "400\n",
      "900\n",
      "1600\n"
     ]
    }
   ],
   "source": [
    "data = [10, 20, 30, 40]\n",
    "for i in range(len(data)):\n",
    "    print(data[i]**2)"
   ]
  },
  {
   "cell_type": "markdown",
   "metadata": {},
   "source": [
    "But really, you should be doing this:"
   ]
  },
  {
   "cell_type": "code",
   "execution_count": 17,
   "metadata": {},
   "outputs": [
    {
     "name": "stdout",
     "output_type": "stream",
     "text": [
      "100\n",
      "400\n",
      "900\n",
      "1600\n"
     ]
    }
   ],
   "source": [
    "data = [10, 20, 30, 40]\n",
    "for i in data:\n",
    "    print(i**2)"
   ]
  },
  {
   "cell_type": "markdown",
   "metadata": {},
   "source": [
    "Let's say you want to take this array of numbers, square them and then store the new values in an an array. If you come from other programming languages you might do it this way:"
   ]
  },
  {
   "cell_type": "code",
   "execution_count": 16,
   "metadata": {},
   "outputs": [
    {
     "name": "stdout",
     "output_type": "stream",
     "text": [
      "[100, 400, 900, 1600]\n"
     ]
    }
   ],
   "source": [
    "data = [10, 20, 30, 40]\n",
    "newdata = []\n",
    "for i in data:\n",
    "    newdata.append(i**2)\n",
    "print(newdata)"
   ]
  },
  {
   "cell_type": "markdown",
   "metadata": {},
   "source": [
    "These work, but there's a better method known as *list comprehension*. We can do our loop in 1 line of code instead of 3:"
   ]
  },
  {
   "cell_type": "code",
   "execution_count": 28,
   "metadata": {},
   "outputs": [
    {
     "name": "stdout",
     "output_type": "stream",
     "text": [
      "[100, 400, 900, 1600]\n"
     ]
    }
   ],
   "source": [
    "data = [10, 20, 30, 40]\n",
    "newdata = [i**2 for i in data]\n",
    "print(newdata)"
   ]
  },
  {
   "cell_type": "markdown",
   "metadata": {},
   "source": [
    "We can also do list comprehension on strings. Here, we convert a string into a list of ASCII values (ASCII is a basic coding used to represent symbols on computers):"
   ]
  },
  {
   "cell_type": "code",
   "execution_count": 48,
   "metadata": {},
   "outputs": [
    {
     "name": "stdout",
     "output_type": "stream",
     "text": [
      "[116, 104, 101, 113, 117, 105, 99, 107, 98, 114, 111, 119, 110, 102, 111, 120, 106, 117, 109, 112, 115, 111, 118, 101, 114, 116, 104, 101, 108, 97, 122, 121, 100, 111, 103]\n"
     ]
    }
   ],
   "source": [
    "lower_case_characters = [ord(i) for i in \"thequickbrownfoxjumpsoverthelazydog\"];\n",
    "print(lower_case_characters)"
   ]
  },
  {
   "cell_type": "markdown",
   "metadata": {},
   "source": [
    "We can then convert lower to upper case by subtracting an integer from each ASCII code:"
   ]
  },
  {
   "cell_type": "code",
   "execution_count": 53,
   "metadata": {},
   "outputs": [
    {
     "name": "stdout",
     "output_type": "stream",
     "text": [
      "THEQUICKBROWNFOXJUMPSOVERTHELAZYDOG\n"
     ]
    }
   ],
   "source": [
    "upper_case_characters = [chr(i-32) for i in lower_case_characters]\n",
    "print(''.join(upper_case_characters))"
   ]
  },
  {
   "cell_type": "code",
   "execution_count": null,
   "metadata": {},
   "outputs": [],
   "source": []
  }
 ],
 "metadata": {
  "kernelspec": {
   "display_name": "Python 3",
   "language": "python",
   "name": "python3"
  },
  "language_info": {
   "codemirror_mode": {
    "name": "ipython",
    "version": 3
   },
   "file_extension": ".py",
   "mimetype": "text/x-python",
   "name": "python",
   "nbconvert_exporter": "python",
   "pygments_lexer": "ipython3",
   "version": "3.7.7"
  }
 },
 "nbformat": 4,
 "nbformat_minor": 4
}
